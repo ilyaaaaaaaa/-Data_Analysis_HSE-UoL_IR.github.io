{
 "cells": [
  {
   "cell_type": "markdown",
   "id": "3052b6f0",
   "metadata": {
    "toc": true
   },
   "source": [
    "<h1>Table of Contents<span class=\"tocSkip\"></span></h1>\n",
    "<div class=\"toc\"><ul class=\"toc-item\"><li><span><a href=\"#snakify-problems\" data-toc-modified-id=\"snakify-problems-1\"><span class=\"toc-item-num\">1&nbsp;&nbsp;</span>snakify problems</a></span><ul class=\"toc-item\"><li><span><a href=\"#Countries-and-cities\" data-toc-modified-id=\"Countries-and-cities-1.1\"><span class=\"toc-item-num\">1.1&nbsp;&nbsp;</span>Countries and cities</a></span><ul class=\"toc-item\"><li><span><a href=\"#solution\" data-toc-modified-id=\"solution-1.1.1\"><span class=\"toc-item-num\">1.1.1&nbsp;&nbsp;</span>solution</a></span></li><li><span><a href=\"#author's-solution\" data-toc-modified-id=\"author's-solution-1.1.2\"><span class=\"toc-item-num\">1.1.2&nbsp;&nbsp;</span>author's solution</a></span></li><li><span><a href=\"#what-is-star\" data-toc-modified-id=\"what-is-star-1.1.3\"><span class=\"toc-item-num\">1.1.3&nbsp;&nbsp;</span>what is star</a></span></li></ul></li><li><span><a href=\"#English-Latin-dictionary\" data-toc-modified-id=\"English-Latin-dictionary-1.2\"><span class=\"toc-item-num\">1.2&nbsp;&nbsp;</span>English-Latin dictionary</a></span><ul class=\"toc-item\"><li><span><a href=\"#solution-1\" data-toc-modified-id=\"solution-1-1.2.1\"><span class=\"toc-item-num\">1.2.1&nbsp;&nbsp;</span>solution-1</a></span></li><li><span><a href=\"#solution-2\" data-toc-modified-id=\"solution-2-1.2.2\"><span class=\"toc-item-num\">1.2.2&nbsp;&nbsp;</span>solution-2</a></span></li><li><span><a href=\"#about-defaultdict\" data-toc-modified-id=\"about-defaultdict-1.2.3\"><span class=\"toc-item-num\">1.2.3&nbsp;&nbsp;</span>about defaultdict</a></span></li></ul></li><li><span><a href=\"#Access-rights\" data-toc-modified-id=\"Access-rights-1.3\"><span class=\"toc-item-num\">1.3&nbsp;&nbsp;</span>Access rights</a></span><ul class=\"toc-item\"><li><span><a href=\"#read-data\" data-toc-modified-id=\"read-data-1.3.1\"><span class=\"toc-item-num\">1.3.1&nbsp;&nbsp;</span>read data</a></span></li><li><span><a href=\"#check-rights\" data-toc-modified-id=\"check-rights-1.3.2\"><span class=\"toc-item-num\">1.3.2&nbsp;&nbsp;</span>check rights</a></span></li></ul></li><li><span><a href=\"#Frequency-analysis\" data-toc-modified-id=\"Frequency-analysis-1.4\"><span class=\"toc-item-num\">1.4&nbsp;&nbsp;</span>Frequency analysis</a></span><ul class=\"toc-item\"><li><span><a href=\"#solution-using-counter\" data-toc-modified-id=\"solution-using-counter-1.4.1\"><span class=\"toc-item-num\">1.4.1&nbsp;&nbsp;</span>solution using counter</a></span></li><li><span><a href=\"#about-smart-sorting-for-this-task\" data-toc-modified-id=\"about-smart-sorting-for-this-task-1.4.2\"><span class=\"toc-item-num\">1.4.2&nbsp;&nbsp;</span>about smart sorting for this task</a></span></li></ul></li><li><span><a href=\"#Polyglots\" data-toc-modified-id=\"Polyglots-1.5\"><span class=\"toc-item-num\">1.5&nbsp;&nbsp;</span>Polyglots</a></span><ul class=\"toc-item\"><li><span><a href=\"#simple-solution\" data-toc-modified-id=\"simple-solution-1.5.1\"><span class=\"toc-item-num\">1.5.1&nbsp;&nbsp;</span>simple solution</a></span></li><li><span><a href=\"#star-example\" data-toc-modified-id=\"star-example-1.5.2\"><span class=\"toc-item-num\">1.5.2&nbsp;&nbsp;</span>star example</a></span></li><li><span><a href=\"#super-short-solution\" data-toc-modified-id=\"super-short-solution-1.5.3\"><span class=\"toc-item-num\">1.5.3&nbsp;&nbsp;</span>super short solution</a></span></li></ul></li><li><span><a href=\"#Guess-the-number\" data-toc-modified-id=\"Guess-the-number-1.6\"><span class=\"toc-item-num\">1.6&nbsp;&nbsp;</span>Guess the number</a></span></li></ul></li><li><span><a href=\"#advanced-dictionaries\" data-toc-modified-id=\"advanced-dictionaries-2\"><span class=\"toc-item-num\">2&nbsp;&nbsp;</span>advanced dictionaries</a></span></li><li><span><a href=\"#leetcode\" data-toc-modified-id=\"leetcode-3\"><span class=\"toc-item-num\">3&nbsp;&nbsp;</span>leetcode</a></span><ul class=\"toc-item\"><li><span><a href=\"#Uncommon-Words-from-Two-Sentences\" data-toc-modified-id=\"Uncommon-Words-from-Two-Sentences-3.1\"><span class=\"toc-item-num\">3.1&nbsp;&nbsp;</span>Uncommon Words from Two Sentences</a></span></li><li><span><a href=\"#Valid-Anagram\" data-toc-modified-id=\"Valid-Anagram-3.2\"><span class=\"toc-item-num\">3.2&nbsp;&nbsp;</span>Valid Anagram</a></span></li></ul></li></ul></div>"
   ]
  },
  {
   "cell_type": "markdown",
   "id": "d747940c",
   "metadata": {},
   "source": [
    "# snakify problems"
   ]
  },
  {
   "cell_type": "code",
   "execution_count": 96,
   "id": "001d5997",
   "metadata": {},
   "outputs": [],
   "source": [
    "# Create empty dict Capitals\n",
    "Capitals = {}\n",
    "\n",
    "# Fill it with some values\n",
    "Capitals['Russia'] = 'Moscow'\n",
    "Capitals['Ukraine'] = 'Kiev'\n",
    "Capitals['USA'] = 'Washington'\n",
    "# Capitals['USA'] = 'New York'\n",
    "\n"
   ]
  },
  {
   "cell_type": "code",
   "execution_count": 98,
   "id": "2f5da4e8",
   "metadata": {},
   "outputs": [
    {
     "data": {
      "text/plain": [
       "{'Russia': 'Moscow', 'Ukraine': 'Kiev', 'USA': 'Washington'}"
      ]
     },
     "execution_count": 98,
     "metadata": {},
     "output_type": "execute_result"
    }
   ],
   "source": [
    "Capitals"
   ]
  },
  {
   "cell_type": "code",
   "execution_count": 99,
   "id": "eb79aa7a",
   "metadata": {},
   "outputs": [
    {
     "data": {
      "text/plain": [
       "dict_keys(['Russia', 'Ukraine', 'USA'])"
      ]
     },
     "execution_count": 99,
     "metadata": {},
     "output_type": "execute_result"
    }
   ],
   "source": [
    "Capitals.keys()"
   ]
  },
  {
   "cell_type": "code",
   "execution_count": 100,
   "id": "2cf4a10b",
   "metadata": {},
   "outputs": [
    {
     "data": {
      "text/plain": [
       "dict_values(['Moscow', 'Kiev', 'Washington'])"
      ]
     },
     "execution_count": 100,
     "metadata": {},
     "output_type": "execute_result"
    }
   ],
   "source": [
    "Capitals.values()"
   ]
  },
  {
   "cell_type": "code",
   "execution_count": 101,
   "id": "87938c74",
   "metadata": {},
   "outputs": [
    {
     "data": {
      "text/plain": [
       "dict_items([('Russia', 'Moscow'), ('Ukraine', 'Kiev'), ('USA', 'Washington')])"
      ]
     },
     "execution_count": 101,
     "metadata": {},
     "output_type": "execute_result"
    }
   ],
   "source": [
    "Capitals.items()"
   ]
  },
  {
   "cell_type": "code",
   "execution_count": 102,
   "id": "529dce00",
   "metadata": {},
   "outputs": [
    {
     "name": "stdout",
     "output_type": "stream",
     "text": [
      "{'Russia': 'Moscow', 'Ukraine': 'Kiev', 'USA': 'Washington'}\n"
     ]
    }
   ],
   "source": [
    "Capitals = {\n",
    "    'Russia': 'Moscow', \n",
    "    'Ukraine': 'Kiev', \n",
    "    'USA': 'Washington'\n",
    "}\n",
    "Capitals = dict(\n",
    "    RA = 'Moscow', \n",
    "    Ukraine = 'Kiev', \n",
    "    USA = 'Washington')\n",
    "\n",
    "Capitals = dict(\n",
    "    [(\"Russia\", \"Moscow\"), \n",
    "     (\"Ukraine\", \"Kiev\"), \n",
    "     (\"USA\", \"Washington\")\n",
    "    ])\n",
    "\n",
    "Capitals = dict(zip(\n",
    "    [\"Russia\", \"Ukraine\", \"USA\"], \n",
    "    [\"Moscow\", \"Kiev\", \"Washington\"]\n",
    "))\n",
    "\n",
    "\n",
    "print(Capitals)"
   ]
  },
  {
   "cell_type": "code",
   "execution_count": 19,
   "id": "8d48e40b",
   "metadata": {},
   "outputs": [
    {
     "name": "stdout",
     "output_type": "stream",
     "text": [
      "key\tvalue\n",
      "Russia\tMoscow\n",
      "Ukraine\tKiev\n",
      "USA\tNew York\n"
     ]
    }
   ],
   "source": [
    "print('key', 'value', sep='\\t')\n",
    "for x in Capitals:\n",
    "    print(x, Capitals[x], sep='\\t')"
   ]
  },
  {
   "cell_type": "code",
   "execution_count": 20,
   "id": "0c8308a6",
   "metadata": {},
   "outputs": [
    {
     "name": "stdout",
     "output_type": "stream",
     "text": [
      "Russia\tMoscow\n",
      "Ukraine\tKiev\n",
      "USA\tNew York\n"
     ]
    }
   ],
   "source": [
    "for x,y in Capitals.items():\n",
    "    print(x, y, sep='\\t')"
   ]
  },
  {
   "cell_type": "markdown",
   "id": "cfe57e45",
   "metadata": {},
   "source": [
    "## Countries and cities"
   ]
  },
  {
   "cell_type": "raw",
   "id": "c412ab69",
   "metadata": {},
   "source": [
    "2\n",
    "USA Boston Pittsburgh Washington Seattle\n",
    "UK London Edinburgh Cardiff Belfast\n",
    "3\n",
    "Cardiff\n",
    "Seattle\n",
    "London"
   ]
  },
  {
   "cell_type": "code",
   "execution_count": 22,
   "id": "4078299d",
   "metadata": {},
   "outputs": [
    {
     "name": "stdout",
     "output_type": "stream",
     "text": [
      "2\n",
      "USA Boston Pittsburgh Washington Seattle\n",
      "UK London Edinburgh Cardiff Belfast\n"
     ]
    }
   ],
   "source": [
    "n = int(input())\n",
    "\n",
    "d = {}\n",
    "for i in range(n):\n",
    "    x = input().split()\n",
    "    d[x[0]] = x[1:]"
   ]
  },
  {
   "cell_type": "code",
   "execution_count": 23,
   "id": "8fdff466",
   "metadata": {},
   "outputs": [
    {
     "data": {
      "text/plain": [
       "{'USA': ['Boston', 'Pittsburgh', 'Washington', 'Seattle'],\n",
       " 'UK': ['London', 'Edinburgh', 'Cardiff', 'Belfast']}"
      ]
     },
     "execution_count": 23,
     "metadata": {},
     "output_type": "execute_result"
    }
   ],
   "source": [
    "d"
   ]
  },
  {
   "cell_type": "code",
   "execution_count": 24,
   "id": "31a80a46",
   "metadata": {},
   "outputs": [
    {
     "name": "stdout",
     "output_type": "stream",
     "text": [
      "3\n",
      "Cardiff\n",
      "Seattle\n",
      "London\n"
     ]
    }
   ],
   "source": [
    "k = int(input())\n",
    "cities_to_check = []\n",
    "for i in range(k):\n",
    "    cities_to_check.append(input())"
   ]
  },
  {
   "cell_type": "code",
   "execution_count": 25,
   "id": "016298bd",
   "metadata": {},
   "outputs": [
    {
     "data": {
      "text/plain": [
       "['Cardiff', 'Seattle', 'London']"
      ]
     },
     "execution_count": 25,
     "metadata": {},
     "output_type": "execute_result"
    }
   ],
   "source": [
    "cities_to_check"
   ]
  },
  {
   "cell_type": "code",
   "execution_count": 27,
   "id": "c963e6fc",
   "metadata": {},
   "outputs": [],
   "source": [
    "city = 'Cardiff'\n",
    "def check_country(city):\n",
    "    for country,cities in d.items():\n",
    "        if city in cities:\n",
    "            print(country)"
   ]
  },
  {
   "cell_type": "code",
   "execution_count": 28,
   "id": "d80daeb2",
   "metadata": {},
   "outputs": [
    {
     "name": "stdout",
     "output_type": "stream",
     "text": [
      "UK\n",
      "USA\n",
      "UK\n"
     ]
    }
   ],
   "source": [
    "for city in cities_to_check:\n",
    "    check_country(city)"
   ]
  },
  {
   "cell_type": "markdown",
   "id": "b55289b9",
   "metadata": {},
   "source": [
    "### solution"
   ]
  },
  {
   "cell_type": "code",
   "execution_count": null,
   "id": "5b1027e0",
   "metadata": {},
   "outputs": [],
   "source": [
    "n = int(input())\n",
    "\n",
    "# create dictionary country: [city_1, city_2]\n",
    "d = {}\n",
    "for i in range(n):\n",
    "    x = input().split()\n",
    "    d[x[0]] = x[1:]\n",
    "\n",
    "# we read cities to print country\n",
    "k = int(input())\n",
    "cities_to_check = []\n",
    "for i in range(k):\n",
    "    cities_to_check.append(input())\n",
    "    \n",
    "# print country\n",
    "def check_country(city):\n",
    "    for country,cities in d.items():\n",
    "        if city in cities:\n",
    "            print(country)\n",
    "            \n",
    "for city in cities_to_check:\n",
    "    check_country(city)"
   ]
  },
  {
   "cell_type": "markdown",
   "id": "e2a2e15e",
   "metadata": {},
   "source": [
    "### author's solution"
   ]
  },
  {
   "cell_type": "code",
   "execution_count": null,
   "id": "e53faf04",
   "metadata": {},
   "outputs": [],
   "source": [
    "motherland = {} # city : country\n",
    "for i in range(int(input())):\n",
    "    country, *cities = input().split()\n",
    "    for city in cities:\n",
    "        motherland[city] = country\n",
    "        \n",
    "for i in range(int(input())):\n",
    "    print(motherland[input()])"
   ]
  },
  {
   "cell_type": "markdown",
   "id": "3e2cdcec",
   "metadata": {},
   "source": [
    "### what is star"
   ]
  },
  {
   "cell_type": "code",
   "execution_count": 215,
   "id": "bd41fd41",
   "metadata": {},
   "outputs": [],
   "source": [
    "a = [1,2,3]"
   ]
  },
  {
   "cell_type": "code",
   "execution_count": 217,
   "id": "0019ddc0",
   "metadata": {},
   "outputs": [
    {
     "name": "stdout",
     "output_type": "stream",
     "text": [
      "[1, 2, 3]\n"
     ]
    }
   ],
   "source": [
    "print(a, sep='_____')"
   ]
  },
  {
   "cell_type": "code",
   "execution_count": 218,
   "id": "a786e839",
   "metadata": {},
   "outputs": [
    {
     "name": "stdout",
     "output_type": "stream",
     "text": [
      "1_____2_____3\n"
     ]
    }
   ],
   "source": [
    "print(*a, sep='_____')"
   ]
  },
  {
   "cell_type": "code",
   "execution_count": 34,
   "id": "a583172b",
   "metadata": {},
   "outputs": [
    {
     "name": "stdout",
     "output_type": "stream",
     "text": [
      "1_____2_____3\n"
     ]
    }
   ],
   "source": [
    "print(1,2,3, sep='_____')"
   ]
  },
  {
   "cell_type": "code",
   "execution_count": 40,
   "id": "2577e0fc",
   "metadata": {},
   "outputs": [],
   "source": [
    "a = [1,2,3,4,5]\n",
    "\n",
    "b,c,*d = a"
   ]
  },
  {
   "cell_type": "code",
   "execution_count": 219,
   "id": "6be5f51b",
   "metadata": {},
   "outputs": [],
   "source": [
    "a = [1,2,3,4,5]\n",
    "\n",
    "b = a[0]\n",
    "c = a[1]\n",
    "d = a[2:]"
   ]
  },
  {
   "cell_type": "code",
   "execution_count": 220,
   "id": "29d1a4c9",
   "metadata": {},
   "outputs": [],
   "source": [
    "def f_no_star(a,b,c):\n",
    "    print(a)\n",
    "    print(b)\n",
    "    print(c)"
   ]
  },
  {
   "cell_type": "code",
   "execution_count": 221,
   "id": "04b6db98",
   "metadata": {},
   "outputs": [
    {
     "name": "stdout",
     "output_type": "stream",
     "text": [
      "1\n",
      "2\n",
      "3\n"
     ]
    }
   ],
   "source": [
    "f_no_star(1,2,3)"
   ]
  },
  {
   "cell_type": "code",
   "execution_count": 222,
   "id": "7f59eebb",
   "metadata": {},
   "outputs": [],
   "source": [
    "def f_star(*my_vars):\n",
    "    for x in my_vars:\n",
    "        print(x)"
   ]
  },
  {
   "cell_type": "code",
   "execution_count": 223,
   "id": "b1dd150e",
   "metadata": {},
   "outputs": [
    {
     "name": "stdout",
     "output_type": "stream",
     "text": [
      "1\n",
      "2\n",
      "3\n"
     ]
    }
   ],
   "source": [
    "f_star(1,2,3)"
   ]
  },
  {
   "cell_type": "code",
   "execution_count": 224,
   "id": "b649a429",
   "metadata": {},
   "outputs": [
    {
     "name": "stdout",
     "output_type": "stream",
     "text": [
      "1\n",
      "2\n",
      "3\n",
      "4\n",
      "5\n",
      "6\n"
     ]
    }
   ],
   "source": [
    "f_star(1,2,3,4,5,6)"
   ]
  },
  {
   "cell_type": "markdown",
   "id": "344beb37",
   "metadata": {},
   "source": [
    "## English-Latin dictionary"
   ]
  },
  {
   "cell_type": "raw",
   "id": "0276d730",
   "metadata": {},
   "source": [
    "3\n",
    "apple - malum, pomum, popula\n",
    "fruit - baca, bacca, popum\n",
    "punishment - malum, multa"
   ]
  },
  {
   "cell_type": "code",
   "execution_count": 73,
   "id": "b81053dd",
   "metadata": {},
   "outputs": [
    {
     "name": "stdout",
     "output_type": "stream",
     "text": [
      "3\n",
      "apple - malum, pomum, popula\n",
      "fruit - baca, bacca, popum\n",
      "punishment - malum, multa\n"
     ]
    }
   ],
   "source": [
    "n = int(input())\n",
    "d = {}\n",
    "for i in range(n):\n",
    "    eng, latin = input().split(' - ')\n",
    "    latin = latin.split(', ')\n",
    "    for latin_word in latin:\n",
    "        if latin_word not in d:\n",
    "            # 1st occurence of latin word\n",
    "            d[latin_word] = [eng]\n",
    "        else:\n",
    "            # 2nd occurence of latin word\n",
    "            d[latin_word].append(eng)"
   ]
  },
  {
   "cell_type": "code",
   "execution_count": 75,
   "id": "f5ecad7e",
   "metadata": {},
   "outputs": [
    {
     "data": {
      "text/plain": [
       "{'malum': ['apple', 'punishment'],\n",
       " 'pomum': ['apple'],\n",
       " 'popula': ['apple'],\n",
       " 'baca': ['fruit'],\n",
       " 'bacca': ['fruit'],\n",
       " 'popum': ['fruit'],\n",
       " 'multa': ['punishment']}"
      ]
     },
     "execution_count": 75,
     "metadata": {},
     "output_type": "execute_result"
    }
   ],
   "source": [
    "d"
   ]
  },
  {
   "cell_type": "code",
   "execution_count": 79,
   "id": "cd56f9e8",
   "metadata": {},
   "outputs": [
    {
     "data": {
      "text/plain": [
       "['baca', 'bacca', 'malum', 'multa', 'pomum', 'popula', 'popum']"
      ]
     },
     "execution_count": 79,
     "metadata": {},
     "output_type": "execute_result"
    }
   ],
   "source": [
    "sorted(d)"
   ]
  },
  {
   "cell_type": "code",
   "execution_count": 80,
   "id": "77ebe257",
   "metadata": {},
   "outputs": [
    {
     "data": {
      "text/plain": [
       "['fruit']"
      ]
     },
     "execution_count": 80,
     "metadata": {},
     "output_type": "execute_result"
    }
   ],
   "source": [
    "', '.join(d[latin])"
   ]
  },
  {
   "cell_type": "code",
   "execution_count": 82,
   "id": "18fc41d0",
   "metadata": {},
   "outputs": [
    {
     "name": "stdout",
     "output_type": "stream",
     "text": [
      "7\n",
      "baca - fruit\n",
      "bacca - fruit\n",
      "malum - apple, punishment\n",
      "multa - punishment\n",
      "pomum - apple\n",
      "popula - apple\n",
      "popum - fruit\n"
     ]
    }
   ],
   "source": [
    "print(len(d))\n",
    "for latin in sorted(d):\n",
    "    #print(f'{latin} - {d[latin]}')\n",
    "    print(latin, ', '.join(d[latin]), sep=' - ')"
   ]
  },
  {
   "cell_type": "markdown",
   "id": "7688f47e",
   "metadata": {},
   "source": [
    "### solution-1"
   ]
  },
  {
   "cell_type": "code",
   "execution_count": null,
   "id": "b494cd81",
   "metadata": {},
   "outputs": [],
   "source": [
    "n = int(input())\n",
    "d = {}\n",
    "for i in range(n):\n",
    "    eng, latin = input().split(' - ')\n",
    "    latin = latin.split(', ')\n",
    "    for latin_word in latin:\n",
    "        if latin_word not in d:\n",
    "            # 1st occurence of latin word\n",
    "            d[latin_word] = [] # default value\n",
    "            d[latin_word].append(eng)\n",
    "        else:\n",
    "            # 2nd occurence of latin word\n",
    "            d[latin_word].append(eng)\n",
    "            \n",
    "print(len(d))\n",
    "for latin in sorted(d):\n",
    "    #print(f'{latin} - {d[latin]}')\n",
    "    print(latin, ', '.join(d[latin]), sep=' - ')"
   ]
  },
  {
   "cell_type": "markdown",
   "id": "4ee18135",
   "metadata": {},
   "source": [
    "### solution-2"
   ]
  },
  {
   "cell_type": "code",
   "execution_count": 83,
   "id": "10a86741",
   "metadata": {},
   "outputs": [
    {
     "name": "stdout",
     "output_type": "stream",
     "text": [
      "3\n",
      "apple - malum, pomum, popula\n",
      "fruit - baca, bacca, popum\n",
      "punishment - malum, multa\n",
      "7\n",
      "baca - fruit\n",
      "bacca - fruit\n",
      "malum - apple, punishment\n",
      "multa - punishment\n",
      "pomum - apple\n",
      "popula - apple\n",
      "popum - fruit\n"
     ]
    }
   ],
   "source": [
    "from collections import defaultdict\n",
    "\n",
    "n = int(input())\n",
    "d = defaultdict(list)\n",
    "\n",
    "for i in range(n):\n",
    "    eng, latin = input().split(' - ')\n",
    "    latin = latin.split(', ')\n",
    "    for latin_word in latin:\n",
    "        # defaultdict is used\n",
    "        d[latin_word].append(eng)\n",
    "            \n",
    "print(len(d))\n",
    "for latin in sorted(d):\n",
    "    #print(f'{latin} - {d[latin]}')\n",
    "    print(latin, ', '.join(d[latin]), sep=' - ')"
   ]
  },
  {
   "cell_type": "markdown",
   "id": "e6f718c6",
   "metadata": {},
   "source": [
    "### about defaultdict"
   ]
  },
  {
   "cell_type": "code",
   "execution_count": 86,
   "id": "588d8081",
   "metadata": {},
   "outputs": [],
   "source": [
    "d['qwertyuijo'].append('aaaaaa')"
   ]
  },
  {
   "cell_type": "code",
   "execution_count": 87,
   "id": "5e3683ec",
   "metadata": {},
   "outputs": [
    {
     "data": {
      "text/plain": [
       "defaultdict(list,\n",
       "            {'malum': ['apple', 'punishment'],\n",
       "             'pomum': ['apple'],\n",
       "             'popula': ['apple'],\n",
       "             'baca': ['fruit'],\n",
       "             'bacca': ['fruit'],\n",
       "             'popum': ['fruit'],\n",
       "             'multa': ['punishment'],\n",
       "             'qwertyuijo': ['aaaaaa']})"
      ]
     },
     "execution_count": 87,
     "metadata": {},
     "output_type": "execute_result"
    }
   ],
   "source": [
    "d"
   ]
  },
  {
   "cell_type": "code",
   "execution_count": 89,
   "id": "c510186c",
   "metadata": {},
   "outputs": [],
   "source": [
    "from collections import defaultdict\n",
    "latin_to_english = defaultdict(int)"
   ]
  },
  {
   "cell_type": "code",
   "execution_count": 90,
   "id": "1c433889",
   "metadata": {},
   "outputs": [],
   "source": [
    "latin_to_english['d']+=1"
   ]
  },
  {
   "cell_type": "code",
   "execution_count": 91,
   "id": "1a25ff5c",
   "metadata": {
    "scrolled": true
   },
   "outputs": [
    {
     "data": {
      "text/plain": [
       "defaultdict(int, {'d': 1})"
      ]
     },
     "execution_count": 91,
     "metadata": {},
     "output_type": "execute_result"
    }
   ],
   "source": [
    "latin_to_english"
   ]
  },
  {
   "cell_type": "markdown",
   "id": "4cdfad4a",
   "metadata": {},
   "source": [
    "## Access rights"
   ]
  },
  {
   "cell_type": "raw",
   "id": "18244d32",
   "metadata": {},
   "source": [
    "4\n",
    "helloworld.exe R X\n",
    "pinglog W R\n",
    "nya R\n",
    "goodluck X W R\n",
    "5\n",
    "read nya\n",
    "write helloworld.exe\n",
    "execute nya\n",
    "read pinglog\n",
    "write pinglog"
   ]
  },
  {
   "cell_type": "markdown",
   "id": "1d768666",
   "metadata": {},
   "source": [
    "### read data"
   ]
  },
  {
   "cell_type": "code",
   "execution_count": 87,
   "id": "f748183b",
   "metadata": {},
   "outputs": [
    {
     "name": "stdout",
     "output_type": "stream",
     "text": [
      "4\n",
      "helloworld.exe R X\n",
      "pinglog W R\n",
      "nya R\n",
      "goodluck X W R\n"
     ]
    }
   ],
   "source": [
    "n = int(input())\n",
    "\n",
    "files = {} # file : [right_1, right_2, ...]\n",
    "for i in range(n):\n",
    "    x = input().split()\n",
    "    files[x[0]] = x[1:]"
   ]
  },
  {
   "cell_type": "code",
   "execution_count": 105,
   "id": "8f8743d0",
   "metadata": {},
   "outputs": [
    {
     "data": {
      "text/plain": [
       "{'helloworld.exe': ['R', 'X'],\n",
       " 'pinglog': ['W', 'R'],\n",
       " 'nya': ['R'],\n",
       " 'goodluck': ['X', 'W', 'R']}"
      ]
     },
     "execution_count": 105,
     "metadata": {},
     "output_type": "execute_result"
    }
   ],
   "source": [
    "files"
   ]
  },
  {
   "cell_type": "code",
   "execution_count": 82,
   "id": "332bfec7",
   "metadata": {},
   "outputs": [
    {
     "data": {
      "text/plain": [
       "('read', 'filename')"
      ]
     },
     "execution_count": 82,
     "metadata": {},
     "output_type": "execute_result"
    }
   ],
   "source": [
    "action, filename = 'read filename'.split()\n",
    "action, filename"
   ]
  },
  {
   "cell_type": "code",
   "execution_count": 85,
   "id": "e8c5fea7",
   "metadata": {},
   "outputs": [
    {
     "data": {
      "text/plain": [
       "'R'"
      ]
     },
     "execution_count": 85,
     "metadata": {},
     "output_type": "execute_result"
    }
   ],
   "source": [
    "action[0].upper()"
   ]
  },
  {
   "cell_type": "code",
   "execution_count": 88,
   "id": "9ec0f130",
   "metadata": {},
   "outputs": [
    {
     "data": {
      "text/plain": [
       "['R']"
      ]
     },
     "execution_count": 88,
     "metadata": {},
     "output_type": "execute_result"
    }
   ],
   "source": [
    "files['nya']"
   ]
  },
  {
   "cell_type": "code",
   "execution_count": 89,
   "id": "6df88870",
   "metadata": {},
   "outputs": [],
   "source": [
    "translations = {\n",
    "    'read':'R',\n",
    "    'execute':'X',\n",
    "    'write':'W'\n",
    "}"
   ]
  },
  {
   "cell_type": "code",
   "execution_count": 92,
   "id": "08d90c49",
   "metadata": {},
   "outputs": [
    {
     "data": {
      "text/plain": [
       "'R'"
      ]
     },
     "execution_count": 92,
     "metadata": {},
     "output_type": "execute_result"
    }
   ],
   "source": [
    "translations['read']"
   ]
  },
  {
   "cell_type": "code",
   "execution_count": 94,
   "id": "ef945db1",
   "metadata": {},
   "outputs": [
    {
     "data": {
      "text/plain": [
       "['R']"
      ]
     },
     "execution_count": 94,
     "metadata": {},
     "output_type": "execute_result"
    }
   ],
   "source": [
    "files['nya']"
   ]
  },
  {
   "cell_type": "markdown",
   "id": "f6969168",
   "metadata": {},
   "source": [
    "### check rights"
   ]
  },
  {
   "cell_type": "code",
   "execution_count": 96,
   "id": "0db87987",
   "metadata": {},
   "outputs": [
    {
     "name": "stdout",
     "output_type": "stream",
     "text": [
      "3\n",
      "execute nya\n",
      "Access denied\n",
      "\n",
      "read pinglog\n",
      "OK\n",
      "\n",
      "write pinglog\n",
      "OK\n",
      "\n"
     ]
    }
   ],
   "source": [
    "k = int(input())\n",
    "for i in range(k):\n",
    "    action, filename = input().split()\n",
    "    if translations[action] in files[filename]:\n",
    "        print('OK')\n",
    "    else:\n",
    "        print('Access denied')\n",
    "    print()"
   ]
  },
  {
   "cell_type": "code",
   "execution_count": null,
   "id": "56854a9f",
   "metadata": {},
   "outputs": [],
   "source": [
    "read nya\n",
    "write helloworld.exe\n",
    "execute nya\n",
    "read pinglog\n",
    "write pinglog"
   ]
  },
  {
   "cell_type": "markdown",
   "id": "b9cccab8",
   "metadata": {},
   "source": [
    "## Frequency analysis"
   ]
  },
  {
   "cell_type": "raw",
   "id": "c7591601",
   "metadata": {},
   "source": [
    "9\n",
    "hi\n",
    "hi\n",
    "what is your name\n",
    "my name is bond\n",
    "james bond\n",
    "my name is damme\n",
    "van damme\n",
    "claude van damme\n",
    "jean claude van damme"
   ]
  },
  {
   "cell_type": "code",
   "execution_count": 133,
   "id": "4fc31841",
   "metadata": {},
   "outputs": [],
   "source": [
    "sentences = '''hi\n",
    "hi\n",
    "what is your name\n",
    "my name is bond\n",
    "james bond\n",
    "my name is damme\n",
    "van damme\n",
    "claude van damme\n",
    "jean claude van damme'''"
   ]
  },
  {
   "cell_type": "code",
   "execution_count": 134,
   "id": "02f02f8a",
   "metadata": {},
   "outputs": [],
   "source": [
    "from collections import Counter"
   ]
  },
  {
   "cell_type": "code",
   "execution_count": 135,
   "id": "7ca3ccd6",
   "metadata": {},
   "outputs": [
    {
     "data": {
      "text/plain": [
       "['hi',\n",
       " 'hi',\n",
       " 'what is your name',\n",
       " 'my name is bond',\n",
       " 'james bond',\n",
       " 'my name is damme',\n",
       " 'van damme',\n",
       " 'claude van damme',\n",
       " 'jean claude van damme']"
      ]
     },
     "execution_count": 135,
     "metadata": {},
     "output_type": "execute_result"
    }
   ],
   "source": [
    "sentences = sentences.split('\\n')\n",
    "sentences"
   ]
  },
  {
   "cell_type": "code",
   "execution_count": 140,
   "id": "d58cf311",
   "metadata": {},
   "outputs": [
    {
     "data": {
      "text/plain": [
       "[['hi'],\n",
       " ['hi'],\n",
       " ['what', 'is', 'your', 'name'],\n",
       " ['my', 'name', 'is', 'bond'],\n",
       " ['james', 'bond'],\n",
       " ['my', 'name', 'is', 'damme'],\n",
       " ['van', 'damme'],\n",
       " ['claude', 'van', 'damme'],\n",
       " ['jean', 'claude', 'van', 'damme']]"
      ]
     },
     "execution_count": 140,
     "metadata": {},
     "output_type": "execute_result"
    }
   ],
   "source": [
    "sentences  = [x.split() for x in sentences]\n",
    "sentences"
   ]
  },
  {
   "cell_type": "code",
   "execution_count": 145,
   "id": "9edab228",
   "metadata": {},
   "outputs": [
    {
     "data": {
      "text/plain": [
       "['hi',\n",
       " 'hi',\n",
       " 'what',\n",
       " 'is',\n",
       " 'your',\n",
       " 'name',\n",
       " 'my',\n",
       " 'name',\n",
       " 'is',\n",
       " 'bond',\n",
       " 'james',\n",
       " 'bond',\n",
       " 'my',\n",
       " 'name',\n",
       " 'is',\n",
       " 'damme',\n",
       " 'van',\n",
       " 'damme',\n",
       " 'claude',\n",
       " 'van',\n",
       " 'damme',\n",
       " 'jean',\n",
       " 'claude',\n",
       " 'van',\n",
       " 'damme']"
      ]
     },
     "execution_count": 145,
     "metadata": {},
     "output_type": "execute_result"
    }
   ],
   "source": [
    "words = sum(sentences,[])\n",
    "words"
   ]
  },
  {
   "cell_type": "code",
   "execution_count": 149,
   "id": "2456e9c5",
   "metadata": {},
   "outputs": [
    {
     "data": {
      "text/plain": [
       "36"
      ]
     },
     "execution_count": 149,
     "metadata": {},
     "output_type": "execute_result"
    }
   ],
   "source": [
    "f = lambda x: x**2\n",
    "f(6)"
   ]
  },
  {
   "cell_type": "code",
   "execution_count": 155,
   "id": "0e7f63f2",
   "metadata": {},
   "outputs": [
    {
     "data": {
      "text/plain": [
       "[('hi', 2),\n",
       " ('what', 1),\n",
       " ('is', 3),\n",
       " ('your', 1),\n",
       " ('name', 3),\n",
       " ('my', 2),\n",
       " ('bond', 2),\n",
       " ('james', 1),\n",
       " ('damme', 4),\n",
       " ('van', 3),\n",
       " ('claude', 2),\n",
       " ('jean', 1)]"
      ]
     },
     "execution_count": 155,
     "metadata": {},
     "output_type": "execute_result"
    }
   ],
   "source": [
    "words_counts = list(Counter(words).items())\n",
    "words_counts"
   ]
  },
  {
   "cell_type": "code",
   "execution_count": 156,
   "id": "ad2146e1",
   "metadata": {},
   "outputs": [],
   "source": [
    "f2 = lambda x: x[1] "
   ]
  },
  {
   "cell_type": "code",
   "execution_count": 158,
   "id": "f63a738b",
   "metadata": {},
   "outputs": [
    {
     "data": {
      "text/plain": [
       "2"
      ]
     },
     "execution_count": 158,
     "metadata": {},
     "output_type": "execute_result"
    }
   ],
   "source": [
    "f2(words_counts[0])"
   ]
  },
  {
   "cell_type": "code",
   "execution_count": 170,
   "id": "80c36ba1",
   "metadata": {},
   "outputs": [
    {
     "name": "stdout",
     "output_type": "stream",
     "text": [
      "damme\n",
      "van\n",
      "name\n",
      "is\n",
      "my\n",
      "hi\n",
      "claude\n",
      "bond\n",
      "your\n",
      "what\n",
      "jean\n",
      "james\n"
     ]
    }
   ],
   "source": [
    "answer = sorted(words_counts, key=lambda x: (x[1],x[0]), reverse=True)\n",
    "\n",
    "for x in answer:\n",
    "    print(x[0])"
   ]
  },
  {
   "cell_type": "code",
   "execution_count": 191,
   "id": "5ac4fb4c",
   "metadata": {},
   "outputs": [],
   "source": [
    "f1 = lambda x: x[0]\n",
    "f2 = lambda x: x[1]"
   ]
  },
  {
   "cell_type": "code",
   "execution_count": 194,
   "id": "ee261bed",
   "metadata": {},
   "outputs": [
    {
     "data": {
      "text/plain": [
       "'a'"
      ]
     },
     "execution_count": 194,
     "metadata": {},
     "output_type": "execute_result"
    }
   ],
   "source": [
    "a = ['a','b','c']\n",
    "f1(a)"
   ]
  },
  {
   "cell_type": "code",
   "execution_count": 195,
   "id": "ac53c0bc",
   "metadata": {},
   "outputs": [
    {
     "data": {
      "text/plain": [
       "'b'"
      ]
     },
     "execution_count": 195,
     "metadata": {},
     "output_type": "execute_result"
    }
   ],
   "source": [
    "f2(a)"
   ]
  },
  {
   "cell_type": "markdown",
   "id": "113ca03c",
   "metadata": {},
   "source": [
    "### solution using counter"
   ]
  },
  {
   "cell_type": "code",
   "execution_count": null,
   "id": "ef1b035b",
   "metadata": {},
   "outputs": [],
   "source": [
    "from collections import Counter\n",
    "\n",
    "# get list of list of words\n",
    "n = int(input())\n",
    "sentences = []\n",
    "for i in range(n):\n",
    "    sentences.append(input().split())\n",
    "\n",
    "# concetenate all lists \n",
    "words = sum(sentences,[])\n",
    "# count frequency\n",
    "words_counts = list(Counter(words).items())\n",
    "\n",
    "# sort alphabetically by x[0]\n",
    "answer = sorted(words_counts, key=lambda x: x[0], reverse=False)\n",
    "# sort by frequenct by x[1]\n",
    "answer = sorted(answer, key=lambda x: x[1], reverse=True)\n",
    "\n",
    "# second solution\n",
    "## answer = sorted([(x[0],-x[1]) for x in words_counts])\n",
    "\n",
    "# print answer\n",
    "for x in answer:\n",
    "    print(x[0])"
   ]
  },
  {
   "cell_type": "markdown",
   "id": "f8366137",
   "metadata": {},
   "source": [
    "### about smart sorting for this task"
   ]
  },
  {
   "cell_type": "code",
   "execution_count": 199,
   "id": "b3fdf9bd",
   "metadata": {},
   "outputs": [
    {
     "data": {
      "text/plain": [
       "[('bond', -2),\n",
       " ('claude', -2),\n",
       " ('damme', -4),\n",
       " ('hi', -2),\n",
       " ('is', -3),\n",
       " ('james', -1),\n",
       " ('jean', -1),\n",
       " ('my', -2),\n",
       " ('name', -3),\n",
       " ('van', -3),\n",
       " ('what', -1),\n",
       " ('your', -1)]"
      ]
     },
     "execution_count": 199,
     "metadata": {},
     "output_type": "execute_result"
    }
   ],
   "source": [
    "sorted([(x[0],-x[1]) for x in words_counts])"
   ]
  },
  {
   "cell_type": "code",
   "execution_count": 206,
   "id": "0789cf05",
   "metadata": {},
   "outputs": [
    {
     "name": "stdout",
     "output_type": "stream",
     "text": [
      "damme\n",
      "is\n",
      "name\n",
      "van\n",
      "bond\n",
      "claude\n",
      "hi\n",
      "my\n",
      "james\n",
      "jean\n",
      "what\n",
      "your\n"
     ]
    }
   ],
   "source": [
    "print('\\n'.join([x[0] for x in answer]))"
   ]
  },
  {
   "cell_type": "markdown",
   "id": "7031ff6a",
   "metadata": {},
   "source": [
    "## Polyglots"
   ]
  },
  {
   "cell_type": "raw",
   "id": "4301f364",
   "metadata": {},
   "source": [
    "3\n",
    "3\n",
    "Russian\n",
    "English\n",
    "Japanese\n",
    "2\n",
    "Russian\n",
    "English\n",
    "1\n",
    "English"
   ]
  },
  {
   "cell_type": "markdown",
   "id": "1eb78ed8",
   "metadata": {},
   "source": [
    "### simple solution"
   ]
  },
  {
   "cell_type": "code",
   "execution_count": null,
   "id": "19614b7f",
   "metadata": {},
   "outputs": [],
   "source": [
    "n = int(input())\n",
    "all_students = []\n",
    "for i in range(n):\n",
    "    k = int(input())\n",
    "    lang = []\n",
    "    for j in range(k):\n",
    "        lang.append(input())\n",
    "    all_students.append(set(lang))\n",
    "    "
   ]
  },
  {
   "cell_type": "code",
   "execution_count": null,
   "id": "c1141834",
   "metadata": {},
   "outputs": [],
   "source": [
    "from copy import copy\n",
    "\n",
    "union = set()\n",
    "for student in all_students:\n",
    "    union |=student\n",
    "\n",
    "intersection = copy(union)\n",
    "for student in all_students:\n",
    "    intersection &=student\n"
   ]
  },
  {
   "cell_type": "code",
   "execution_count": 5,
   "id": "02db6f8b",
   "metadata": {},
   "outputs": [
    {
     "data": {
      "text/plain": [
       "[{'English', 'Japanese', 'Russian'}, {'English', 'Russian'}, {'English'}]"
      ]
     },
     "execution_count": 5,
     "metadata": {},
     "output_type": "execute_result"
    }
   ],
   "source": [
    "all_students"
   ]
  },
  {
   "cell_type": "code",
   "execution_count": 23,
   "id": "d3db1613",
   "metadata": {},
   "outputs": [
    {
     "data": {
      "text/plain": [
       "{'English', 'Japanese', 'Russian'}"
      ]
     },
     "execution_count": 23,
     "metadata": {},
     "output_type": "execute_result"
    }
   ],
   "source": [
    "union"
   ]
  },
  {
   "cell_type": "code",
   "execution_count": 24,
   "id": "441a492d",
   "metadata": {},
   "outputs": [
    {
     "data": {
      "text/plain": [
       "{'English'}"
      ]
     },
     "execution_count": 24,
     "metadata": {},
     "output_type": "execute_result"
    }
   ],
   "source": [
    "intersection"
   ]
  },
  {
   "cell_type": "code",
   "execution_count": 21,
   "id": "d6aa1175",
   "metadata": {},
   "outputs": [
    {
     "name": "stdout",
     "output_type": "stream",
     "text": [
      "1\n",
      "English\n",
      "3\n",
      "English\n",
      "Japanese\n",
      "Russian\n"
     ]
    }
   ],
   "source": [
    "print(len(intersection))\n",
    "print(*sorted(intersection), sep='\\n')\n",
    "\n",
    "print(len(union))\n",
    "print(*sorted(union), sep='\\n')"
   ]
  },
  {
   "cell_type": "code",
   "execution_count": null,
   "id": "a4385f06",
   "metadata": {},
   "outputs": [],
   "source": [
    "# n = int(input())\n",
    "# all_students = []\n",
    "# for i in range(n):\n",
    "#     k = int(input())\n",
    "#     lang = []\n",
    "#     for j in range(k):\n",
    "#         lang.append(input())\n",
    "#     all_students.append(set(lang))\n",
    "    "
   ]
  },
  {
   "cell_type": "code",
   "execution_count": 25,
   "id": "68267496",
   "metadata": {},
   "outputs": [
    {
     "name": "stdout",
     "output_type": "stream",
     "text": [
      "3\n",
      "3\n",
      "eng\n",
      "ru\n",
      "ja\n",
      "2\n",
      "en\n",
      "ru\n",
      "1\n",
      "eng\n"
     ]
    }
   ],
   "source": [
    "all_students = [\n",
    "    {input() for j in range(int(input()))} \n",
    "    for i in range(int(input()))\n",
    "]"
   ]
  },
  {
   "cell_type": "code",
   "execution_count": 26,
   "id": "142d46f5",
   "metadata": {},
   "outputs": [
    {
     "data": {
      "text/plain": [
       "[{'eng', 'ja', 'ru'}, {'en', 'ru'}, {'eng'}]"
      ]
     },
     "execution_count": 26,
     "metadata": {},
     "output_type": "execute_result"
    }
   ],
   "source": [
    "all_students"
   ]
  },
  {
   "cell_type": "markdown",
   "id": "3fd9f74c",
   "metadata": {},
   "source": [
    "### star example"
   ]
  },
  {
   "cell_type": "code",
   "execution_count": 28,
   "id": "42a44c1c",
   "metadata": {},
   "outputs": [
    {
     "name": "stdout",
     "output_type": "stream",
     "text": [
      "[1, 2, 3]\n",
      "1 2 3\n"
     ]
    }
   ],
   "source": [
    "print([1,2,3])\n",
    "print(*[1,2,3])"
   ]
  },
  {
   "cell_type": "code",
   "execution_count": 33,
   "id": "852ca4f7",
   "metadata": {},
   "outputs": [
    {
     "data": {
      "text/plain": [
       "{'eng'}"
      ]
     },
     "execution_count": 33,
     "metadata": {},
     "output_type": "execute_result"
    }
   ],
   "source": [
    "set.intersection({'eng', 'ja', 'ru'}, {'eng', 'ru'}, {'eng'})"
   ]
  },
  {
   "cell_type": "code",
   "execution_count": 36,
   "id": "19c06331",
   "metadata": {},
   "outputs": [
    {
     "data": {
      "text/plain": [
       "{'eng'}"
      ]
     },
     "execution_count": 36,
     "metadata": {},
     "output_type": "execute_result"
    }
   ],
   "source": [
    "some_list_with_set = [{'eng', 'ja', 'ru'}, {'eng', 'ru'}, {'eng'}]\n",
    "\n",
    "set.intersection(*some_list_with_set)"
   ]
  },
  {
   "cell_type": "code",
   "execution_count": 46,
   "id": "64da1869",
   "metadata": {},
   "outputs": [
    {
     "name": "stdout",
     "output_type": "stream",
     "text": [
      "3\n",
      "English\n",
      "Japanese\n",
      "Russian\n"
     ]
    }
   ],
   "source": [
    "print(len(union), *sorted(union), sep='\\n')"
   ]
  },
  {
   "cell_type": "markdown",
   "id": "44a2e7b7",
   "metadata": {},
   "source": [
    "### super short solution"
   ]
  },
  {
   "cell_type": "code",
   "execution_count": null,
   "id": "31da0c2d",
   "metadata": {},
   "outputs": [],
   "source": [
    "a = [{input() for k in range(int(input()))} for s in range(int(input()))]\n",
    "alls, somes = set.intersection(*a), set.union(*a)\n",
    "\n",
    "print(len(alls), *sorted(alls), sep='\\n')\n",
    "print(len(somes), *sorted(somes), sep='\\n')\n"
   ]
  },
  {
   "cell_type": "markdown",
   "id": "2adae76e",
   "metadata": {},
   "source": [
    "## Guess the number"
   ]
  },
  {
   "cell_type": "raw",
   "id": "aac64dec",
   "metadata": {},
   "source": [
    "10\n",
    "1 2 3 4 5\n",
    "YES\n",
    "2 4 6 8 10\n",
    "NO\n",
    "HELP"
   ]
  },
  {
   "cell_type": "code",
   "execution_count": 73,
   "id": "73c25fec",
   "metadata": {
    "scrolled": true
   },
   "outputs": [
    {
     "name": "stdout",
     "output_type": "stream",
     "text": [
      "10\n",
      "1 2 3 4 5\n",
      "YES\n",
      "3 4 5\n",
      "NO\n",
      "HELP\n",
      "1 2\n"
     ]
    }
   ],
   "source": [
    "n = int(input())\n",
    "\n",
    "possible_numbers = set(range(1,n+1))\n",
    "x = ''\n",
    "while True:\n",
    "    x = input()\n",
    "    if x == 'HELP':\n",
    "        break\n",
    "    else: \n",
    "        suggested = set([int(s) for s in x.split()])\n",
    "        answer = input()\n",
    "        \n",
    "        if answer=='YES':\n",
    "            possible_numbers &= suggested\n",
    "        else:\n",
    "            possible_numbers -= suggested\n",
    "            \n",
    "print(*sorted(possible_numbers))"
   ]
  },
  {
   "cell_type": "code",
   "execution_count": 72,
   "id": "9ca2522d",
   "metadata": {},
   "outputs": [
    {
     "name": "stdout",
     "output_type": "stream",
     "text": [
      "1\n"
     ]
    }
   ],
   "source": [
    "print(*sorted(possible_numbers))"
   ]
  },
  {
   "cell_type": "code",
   "execution_count": 62,
   "id": "165e342d",
   "metadata": {},
   "outputs": [
    {
     "data": {
      "text/plain": [
       "{1, 2, 3, 4, 5, 6, 7, 8, 9, 10}"
      ]
     },
     "execution_count": 62,
     "metadata": {},
     "output_type": "execute_result"
    }
   ],
   "source": [
    "possible_numbers = set(range(1,n+1))\n",
    "possible_numbers"
   ]
  },
  {
   "cell_type": "code",
   "execution_count": null,
   "id": "1f96c9a8",
   "metadata": {},
   "outputs": [],
   "source": [
    "if answer=='YES':\n",
    "    possible_numbers &= suggested\n",
    "else:\n",
    "    possible_numbers -= suggested"
   ]
  },
  {
   "cell_type": "markdown",
   "id": "9c0c37de",
   "metadata": {},
   "source": [
    "# advanced dictionaries\n",
    "\n",
    "- 4 ways to count frequencies"
   ]
  },
  {
   "cell_type": "code",
   "execution_count": 98,
   "id": "61f0f295",
   "metadata": {},
   "outputs": [
    {
     "data": {
      "text/plain": [
       "['a', 'a', 'a', 'a', 'b', 'b', 'c']"
      ]
     },
     "execution_count": 98,
     "metadata": {},
     "output_type": "execute_result"
    }
   ],
   "source": [
    "words = ['a','a','a','a','b','b','c']\n",
    "words"
   ]
  },
  {
   "cell_type": "code",
   "execution_count": 104,
   "id": "69a1b2f8",
   "metadata": {},
   "outputs": [
    {
     "data": {
      "text/plain": [
       "{'a': 4, 'b': 2, 'c': 1}"
      ]
     },
     "execution_count": 104,
     "metadata": {},
     "output_type": "execute_result"
    }
   ],
   "source": [
    "d = {}\n",
    "for w in words:\n",
    "    d[w] = d.get(w,0)+1\n",
    "    \n",
    "d"
   ]
  },
  {
   "cell_type": "code",
   "execution_count": 107,
   "id": "2b4ad37e",
   "metadata": {},
   "outputs": [
    {
     "data": {
      "text/plain": [
       "{'a': 4, 'b': 2, 'c': 1}"
      ]
     },
     "execution_count": 107,
     "metadata": {},
     "output_type": "execute_result"
    }
   ],
   "source": [
    "d = {}\n",
    "for w in words:\n",
    "    if w not in d:\n",
    "        d[w] = 1\n",
    "    else:\n",
    "        d[w] += 1\n",
    "        \n",
    "d"
   ]
  },
  {
   "cell_type": "code",
   "execution_count": 108,
   "id": "c9bb2ab1",
   "metadata": {},
   "outputs": [
    {
     "data": {
      "text/plain": [
       "Counter({'a': 4, 'b': 2, 'c': 1})"
      ]
     },
     "execution_count": 108,
     "metadata": {},
     "output_type": "execute_result"
    }
   ],
   "source": [
    "from collections import Counter\n",
    "\n",
    "c = Counter(words)\n",
    "c # check c.items"
   ]
  },
  {
   "cell_type": "code",
   "execution_count": 113,
   "id": "24bebf04",
   "metadata": {},
   "outputs": [
    {
     "ename": "KeyError",
     "evalue": "'a'",
     "output_type": "error",
     "traceback": [
      "\u001b[0;31m---------------------------------------------------------------------------\u001b[0m",
      "\u001b[0;31mKeyError\u001b[0m                                  Traceback (most recent call last)",
      "\u001b[0;32m<ipython-input-113-449eea13b35b>\u001b[0m in \u001b[0;36m<module>\u001b[0;34m\u001b[0m\n\u001b[1;32m      1\u001b[0m \u001b[0md\u001b[0m \u001b[0;34m=\u001b[0m \u001b[0;34m{\u001b[0m\u001b[0;34m}\u001b[0m\u001b[0;34m\u001b[0m\u001b[0;34m\u001b[0m\u001b[0m\n\u001b[1;32m      2\u001b[0m \u001b[0;32mfor\u001b[0m \u001b[0mw\u001b[0m \u001b[0;32min\u001b[0m \u001b[0mwords\u001b[0m\u001b[0;34m:\u001b[0m\u001b[0;34m\u001b[0m\u001b[0;34m\u001b[0m\u001b[0m\n\u001b[0;32m----> 3\u001b[0;31m     \u001b[0md\u001b[0m\u001b[0;34m[\u001b[0m\u001b[0mw\u001b[0m\u001b[0;34m]\u001b[0m \u001b[0;34m+=\u001b[0m \u001b[0;36m1\u001b[0m\u001b[0;34m\u001b[0m\u001b[0;34m\u001b[0m\u001b[0m\n\u001b[0m",
      "\u001b[0;31mKeyError\u001b[0m: 'a'"
     ]
    }
   ],
   "source": [
    "# we need key for the first occurence \n",
    "d = {}\n",
    "for w in words:\n",
    "    d[w] += 1"
   ]
  },
  {
   "cell_type": "code",
   "execution_count": 125,
   "id": "df5d7c75",
   "metadata": {},
   "outputs": [
    {
     "data": {
      "text/plain": [
       "defaultdict(<function __main__.<lambda>()>, {'a': 4, 'b': 2, 'c': 1})"
      ]
     },
     "execution_count": 125,
     "metadata": {},
     "output_type": "execute_result"
    }
   ],
   "source": [
    "from collections import defaultdict\n",
    "\n",
    "# def func():\n",
    "#     return 0\n",
    "# d = defaultdict(func)\n",
    "\n",
    "d = defaultdict(lambda:0)\n",
    "\n",
    "for w in words:\n",
    "    d[w] += 1\n",
    "    \n",
    "d"
   ]
  },
  {
   "cell_type": "code",
   "execution_count": 126,
   "id": "d6816114",
   "metadata": {},
   "outputs": [
    {
     "data": {
      "text/plain": [
       "{'a': 4, 'b': 2, 'c': 1}"
      ]
     },
     "execution_count": 126,
     "metadata": {},
     "output_type": "execute_result"
    }
   ],
   "source": [
    "dict(d.items())"
   ]
  },
  {
   "cell_type": "code",
   "execution_count": 122,
   "id": "85390b59",
   "metadata": {},
   "outputs": [],
   "source": [
    "d2 = defaultdict(lambda:[])\n",
    "d2['w'].append('word')\n",
    "d2['w'].append('win')\n",
    "d2['w'].append('wild')"
   ]
  },
  {
   "cell_type": "code",
   "execution_count": 124,
   "id": "dfcc0f5c",
   "metadata": {},
   "outputs": [
    {
     "data": {
      "text/plain": [
       "{'a': 8, 'b': 4, 'c': 2}"
      ]
     },
     "execution_count": 124,
     "metadata": {},
     "output_type": "execute_result"
    }
   ],
   "source": [
    "dict(d.items())"
   ]
  },
  {
   "cell_type": "markdown",
   "id": "7d402b4e",
   "metadata": {},
   "source": [
    "# leetcode"
   ]
  },
  {
   "cell_type": "markdown",
   "id": "ec677fa3",
   "metadata": {},
   "source": [
    "## Uncommon Words from Two Sentences"
   ]
  },
  {
   "cell_type": "code",
   "execution_count": null,
   "id": "abbbeadf",
   "metadata": {},
   "outputs": [],
   "source": [
    "from collections import defaultdict, Counter\n",
    "\n",
    "class Solution(object):\n",
    "    def uncommonFromSentences_v1(self, s1, s2):\n",
    "        \"\"\"\n",
    "        :type s1: str\n",
    "        :type s2: str\n",
    "        :rtype: List[str]\n",
    "        \"\"\"\n",
    "        # counting word with dict\n",
    "        d = {}\n",
    "        \n",
    "        for word in s1.split()+s2.split():\n",
    "            if word not in d:\n",
    "                d[word] = 1\n",
    "            else:\n",
    "                d[word] += 1\n",
    "        \n",
    "        answer = []\n",
    "        for word in d:\n",
    "            if d[word]==1:\n",
    "                answer.append(word)\n",
    "        return answer\n",
    "    \n",
    "    def uncommonFromSentences_v2(self, s1, s2):\n",
    "        \"\"\"\n",
    "        :type s1: str\n",
    "        :type s2: str\n",
    "        :rtype: List[str]\n",
    "        \"\"\"\n",
    "        # counting word with defaultdict\n",
    "        d = defaultdict(int)\n",
    "        \n",
    "        for word in s1.split()+s2.split():\n",
    "            d[word] += 1\n",
    "        \n",
    "        answer = []\n",
    "        for word in d:\n",
    "            if d[word]==1:\n",
    "                answer.append(word)\n",
    "        return answer\n",
    "\n",
    "    def uncommonFromSentences_v3(self, s1, s2):\n",
    "        \"\"\"\n",
    "        :type s1: str\n",
    "        :type s2: str\n",
    "        :rtype: List[str]\n",
    "        \"\"\"\n",
    "        # using set and list methods\n",
    "        li = []\n",
    "        s = s1.split() + s2.split()\n",
    "        \n",
    "        for w in set(s):\n",
    "            if s.count(w)==1:\n",
    "                li.append(w)\n",
    "        return li\n",
    "    \n",
    "    def uncommonFromSentences_v4(self, s1, s2):\n",
    "        \"\"\"\n",
    "        :type s1: str\n",
    "        :type s2: str\n",
    "        :rtype: List[str]\n",
    "        \"\"\"\n",
    "        # using counter\n",
    "        li = []\n",
    "        s = s1.split() + s2.split()\n",
    "        c = Counter(s)\n",
    "        for k,v in c.items():\n",
    "            if v==1:\n",
    "                li.append(k)\n",
    "\n",
    "        return li"
   ]
  },
  {
   "cell_type": "markdown",
   "id": "aeebc4a2",
   "metadata": {},
   "source": [
    "## Valid Anagram"
   ]
  },
  {
   "cell_type": "code",
   "execution_count": null,
   "id": "7fddb30d",
   "metadata": {},
   "outputs": [],
   "source": [
    "from collections import defaultdict, Counter\n",
    "\n",
    "class Solution(object):\n",
    "    def isAnagram_v1(self, s, t):\n",
    "        \"\"\"\n",
    "        :type s: str\n",
    "        :type t: str\n",
    "        :rtype: bool\n",
    "        \"\"\"\n",
    "        return sorted(s) == sorted(t)\n",
    "    \n",
    "    def isAnagram_v2(self, s, t):\n",
    "        \"\"\"\n",
    "        :type s: str\n",
    "        :type t: str\n",
    "        :rtype: bool\n",
    "        \"\"\"\n",
    "        # counter is much faster\n",
    "        return Counter(s) == Counter(t)"
   ]
  }
 ],
 "metadata": {
  "kernelspec": {
   "display_name": "Python 3",
   "language": "python",
   "name": "python3"
  },
  "language_info": {
   "codemirror_mode": {
    "name": "ipython",
    "version": 3
   },
   "file_extension": ".py",
   "mimetype": "text/x-python",
   "name": "python",
   "nbconvert_exporter": "python",
   "pygments_lexer": "ipython3",
   "version": "3.9.4"
  },
  "toc": {
   "base_numbering": 1,
   "nav_menu": {},
   "number_sections": true,
   "sideBar": true,
   "skip_h1_title": false,
   "title_cell": "Table of Contents",
   "title_sidebar": "Contents",
   "toc_cell": true,
   "toc_position": {},
   "toc_section_display": true,
   "toc_window_display": true
  }
 },
 "nbformat": 4,
 "nbformat_minor": 5
}
