{
 "cells": [
  {
   "cell_type": "markdown",
   "id": "ba702e11",
   "metadata": {
    "toc": true
   },
   "source": [
    "<h1>Table of Contents<span class=\"tocSkip\"></span></h1>\n",
    "<div class=\"toc\"><ul class=\"toc-item\"><li><span><a href=\"#Exploratory-data-analysis-with-Pandas\" data-toc-modified-id=\"Exploratory-data-analysis-with-Pandas-1\"><span class=\"toc-item-num\">1&nbsp;&nbsp;</span>Exploratory data analysis with Pandas</a></span></li><li><span><a href=\"#Table-Connections\" data-toc-modified-id=\"Table-Connections-2\"><span class=\"toc-item-num\">2&nbsp;&nbsp;</span>Table Connections</a></span><ul class=\"toc-item\"><li><span><a href=\"#Join\" data-toc-modified-id=\"Join-2.1\"><span class=\"toc-item-num\">2.1&nbsp;&nbsp;</span>Join</a></span></li><li><span><a href=\"#Concatenation\" data-toc-modified-id=\"Concatenation-2.2\"><span class=\"toc-item-num\">2.2&nbsp;&nbsp;</span>Concatenation</a></span></li><li><span><a href=\"#Example-on-YouTube-clips\" data-toc-modified-id=\"Example-on-YouTube-clips-2.3\"><span class=\"toc-item-num\">2.3&nbsp;&nbsp;</span>Example on YouTube clips</a></span></li></ul></li><li><span><a href=\"#Types-of-variables\" data-toc-modified-id=\"Types-of-variables-3\"><span class=\"toc-item-num\">3&nbsp;&nbsp;</span>Types of variables</a></span></li><li><span><a href=\"#Working-with-categorical-variables\" data-toc-modified-id=\"Working-with-categorical-variables-4\"><span class=\"toc-item-num\">4&nbsp;&nbsp;</span>Working with categorical variables</a></span><ul class=\"toc-item\"><li><span><a href=\"#When-there-are-two-categories:\" data-toc-modified-id=\"When-there-are-two-categories:-4.1\"><span class=\"toc-item-num\">4.1&nbsp;&nbsp;</span>When there are two categories:</a></span></li><li><span><a href=\"#When-there-are-more-than-two-categories\" data-toc-modified-id=\"When-there-are-more-than-two-categories-4.2\"><span class=\"toc-item-num\">4.2&nbsp;&nbsp;</span>When there are more than two categories</a></span></li></ul></li><li><span><a href=\"#Working-with-date-and-time\" data-toc-modified-id=\"Working-with-date-and-time-5\"><span class=\"toc-item-num\">5&nbsp;&nbsp;</span>Working with date and time</a></span></li><li><span><a href=\"#Missing-values\" data-toc-modified-id=\"Missing-values-6\"><span class=\"toc-item-num\">6&nbsp;&nbsp;</span>Missing values</a></span><ul class=\"toc-item\"><li><span><a href=\"#Identification\" data-toc-modified-id=\"Identification-6.1\"><span class=\"toc-item-num\">6.1&nbsp;&nbsp;</span>Identification</a></span></li><li><span><a href=\"#Delete\" data-toc-modified-id=\"Delete-6.2\"><span class=\"toc-item-num\">6.2&nbsp;&nbsp;</span>Delete</a></span></li><li><span><a href=\"#Filling-in\" data-toc-modified-id=\"Filling-in-6.3\"><span class=\"toc-item-num\">6.3&nbsp;&nbsp;</span>Filling in</a></span></li></ul></li><li><span><a href=\"#Anomaly-detection\" data-toc-modified-id=\"Anomaly-detection-7\"><span class=\"toc-item-num\">7&nbsp;&nbsp;</span>Anomaly detection</a></span><ul class=\"toc-item\"><li><span><a href=\"#We-estimate-the-average-height-of-people-in-a-school-classroom:\" data-toc-modified-id=\"We-estimate-the-average-height-of-people-in-a-school-classroom:-7.1\"><span class=\"toc-item-num\">7.1&nbsp;&nbsp;</span>We estimate the average height of people in a school classroom:</a></span></li><li><span><a href=\"#Detection-and-removal-of-outliers-on-the-example-of-clips:\" data-toc-modified-id=\"Detection-and-removal-of-outliers-on-the-example-of-clips:-7.2\"><span class=\"toc-item-num\">7.2&nbsp;&nbsp;</span>Detection and removal of outliers on the example of clips:</a></span></li></ul></li></ul></div>"
   ]
  },
  {
   "cell_type": "markdown",
   "id": "a44c59ed",
   "metadata": {},
   "source": [
    "## Exploratory data analysis with Pandas"
   ]
  },
  {
   "cell_type": "markdown",
   "id": "79b337f0",
   "metadata": {},
   "source": [
    "Plan:\n",
    "* Table connections\n",
    "* Types of variables\n",
    "* Working with categorical variables\n",
    "* Working with date and time\n",
    "* Missing values\n",
    "* Anomaly detection"
   ]
  },
  {
   "cell_type": "markdown",
   "id": "723000b3",
   "metadata": {},
   "source": [
    "We also get acquainted with visualization along the way, but more about this in the next time"
   ]
  },
  {
   "cell_type": "code",
   "execution_count": 1,
   "id": "c614f98e",
   "metadata": {},
   "outputs": [],
   "source": [
    "import numpy as np # library for matrices and mathematics\n",
    "import pandas as pd # library for working with tables\n",
    "from scipy import stats # module for working with statistics\n",
    "\n",
    "# libraries for visualization\n",
    "import matplotlib.pyplot as plt\n",
    "import seaborn as sns\n",
    "\n",
    "plt.style.use('ggplot') # graph style\n",
    "%matplotlib inline"
   ]
  },
  {
   "cell_type": "markdown",
   "id": "6cdb3393",
   "metadata": {},
   "source": [
    "## Table Connections"
   ]
  },
  {
   "cell_type": "markdown",
   "id": "721615b1",
   "metadata": {},
   "source": [
    "It is often quite inconvenient to store information in one table. When you have a very large IT company, there is so much data that if you add them to one table, working with it will be very inefficient in time and memory. Therefore, information is put in a bunch of different tables, and special *relationships* are built over them - the so-called columns by which these tables can be combined. \n",
    "\n",
    "An example of a device of such a data storage structure:\n",
    "\n",
    "<center>\n",
    "<img src=\"http://progi.pro/media/main/82/d3/34/82d334f5b4b49d424a2460e796a30cd5.png\" height=\"200\" width=\"600\">\n",
    "</center>"
   ]
  },
  {
   "cell_type": "markdown",
   "id": "5404114c",
   "metadata": {},
   "source": [
    "### Join"
   ]
  },
  {
   "cell_type": "markdown",
   "id": "b6e24c2f",
   "metadata": {},
   "source": [
    "<center>\n",
    "<img src=\"https://community.qlik.com/legacyfs/online/87693_all-joins.png\" height=\"400\" width=\"400\">\n",
    "</center>"
   ]
  },
  {
   "cell_type": "code",
   "execution_count": 2,
   "id": "9c21740b",
   "metadata": {},
   "outputs": [
    {
     "data": {
      "text/html": [
       "<div>\n",
       "<style scoped>\n",
       "    .dataframe tbody tr th:only-of-type {\n",
       "        vertical-align: middle;\n",
       "    }\n",
       "\n",
       "    .dataframe tbody tr th {\n",
       "        vertical-align: top;\n",
       "    }\n",
       "\n",
       "    .dataframe thead th {\n",
       "        text-align: right;\n",
       "    }\n",
       "</style>\n",
       "<table border=\"1\" class=\"dataframe\">\n",
       "  <thead>\n",
       "    <tr style=\"text-align: right;\">\n",
       "      <th></th>\n",
       "      <th>Student</th>\n",
       "      <th>group</th>\n",
       "    </tr>\n",
       "  </thead>\n",
       "  <tbody>\n",
       "    <tr>\n",
       "      <th>0</th>\n",
       "      <td>Tom</td>\n",
       "      <td>01</td>\n",
       "    </tr>\n",
       "    <tr>\n",
       "      <th>1</th>\n",
       "      <td>Ujin</td>\n",
       "      <td>02</td>\n",
       "    </tr>\n",
       "    <tr>\n",
       "      <th>2</th>\n",
       "      <td>Ann</td>\n",
       "      <td>02</td>\n",
       "    </tr>\n",
       "    <tr>\n",
       "      <th>3</th>\n",
       "      <td>Polina</td>\n",
       "      <td>01</td>\n",
       "    </tr>\n",
       "    <tr>\n",
       "      <th>4</th>\n",
       "      <td>Sam</td>\n",
       "      <td>02</td>\n",
       "    </tr>\n",
       "  </tbody>\n",
       "</table>\n",
       "</div>"
      ],
      "text/plain": [
       "  Student group\n",
       "0     Tom    01\n",
       "1    Ujin    02\n",
       "2     Ann    02\n",
       "3  Polina    01\n",
       "4     Sam    02"
      ]
     },
     "metadata": {},
     "output_type": "display_data"
    },
    {
     "data": {
      "text/html": [
       "<div>\n",
       "<style scoped>\n",
       "    .dataframe tbody tr th:only-of-type {\n",
       "        vertical-align: middle;\n",
       "    }\n",
       "\n",
       "    .dataframe tbody tr th {\n",
       "        vertical-align: top;\n",
       "    }\n",
       "\n",
       "    .dataframe thead th {\n",
       "        text-align: right;\n",
       "    }\n",
       "</style>\n",
       "<table border=\"1\" class=\"dataframe\">\n",
       "  <thead>\n",
       "    <tr style=\"text-align: right;\">\n",
       "      <th></th>\n",
       "      <th>Name</th>\n",
       "      <th>GPA</th>\n",
       "    </tr>\n",
       "  </thead>\n",
       "  <tbody>\n",
       "    <tr>\n",
       "      <th>0</th>\n",
       "      <td>Tom</td>\n",
       "      <td>7.8</td>\n",
       "    </tr>\n",
       "    <tr>\n",
       "      <th>1</th>\n",
       "      <td>Ujin</td>\n",
       "      <td>6.4</td>\n",
       "    </tr>\n",
       "    <tr>\n",
       "      <th>2</th>\n",
       "      <td>Ann</td>\n",
       "      <td>8.3</td>\n",
       "    </tr>\n",
       "    <tr>\n",
       "      <th>3</th>\n",
       "      <td>Polina</td>\n",
       "      <td>9</td>\n",
       "    </tr>\n",
       "    <tr>\n",
       "      <th>4</th>\n",
       "      <td>Kit</td>\n",
       "      <td>10</td>\n",
       "    </tr>\n",
       "  </tbody>\n",
       "</table>\n",
       "</div>"
      ],
      "text/plain": [
       "     Name  GPA\n",
       "0     Tom  7.8\n",
       "1    Ujin  6.4\n",
       "2     Ann  8.3\n",
       "3  Polina    9\n",
       "4     Kit   10"
      ]
     },
     "metadata": {},
     "output_type": "display_data"
    }
   ],
   "source": [
    "df1 = pd.DataFrame({'Student': ['Tom', 'Ujin', 'Ann', 'Polina','Sam'],\n",
    "                    'group': ['01', '02', '02', '01','02']})\n",
    "df2 = pd.DataFrame({'Name': ['Tom', 'Ujin', 'Ann', 'Polina', 'Kit'],\n",
    "                    'GPA': ['7.8', '6.4', '8.3', '9', '10']})\n",
    "display(df1, df2)"
   ]
  },
  {
   "cell_type": "code",
   "execution_count": 3,
   "id": "cbb85b5e",
   "metadata": {},
   "outputs": [
    {
     "data": {
      "text/html": [
       "<div>\n",
       "<style scoped>\n",
       "    .dataframe tbody tr th:only-of-type {\n",
       "        vertical-align: middle;\n",
       "    }\n",
       "\n",
       "    .dataframe tbody tr th {\n",
       "        vertical-align: top;\n",
       "    }\n",
       "\n",
       "    .dataframe thead th {\n",
       "        text-align: right;\n",
       "    }\n",
       "</style>\n",
       "<table border=\"1\" class=\"dataframe\">\n",
       "  <thead>\n",
       "    <tr style=\"text-align: right;\">\n",
       "      <th></th>\n",
       "      <th>Student</th>\n",
       "      <th>group</th>\n",
       "      <th>Name</th>\n",
       "      <th>GPA</th>\n",
       "    </tr>\n",
       "  </thead>\n",
       "  <tbody>\n",
       "    <tr>\n",
       "      <th>0</th>\n",
       "      <td>Tom</td>\n",
       "      <td>01</td>\n",
       "      <td>Tom</td>\n",
       "      <td>7.8</td>\n",
       "    </tr>\n",
       "    <tr>\n",
       "      <th>1</th>\n",
       "      <td>Ujin</td>\n",
       "      <td>02</td>\n",
       "      <td>Ujin</td>\n",
       "      <td>6.4</td>\n",
       "    </tr>\n",
       "    <tr>\n",
       "      <th>2</th>\n",
       "      <td>Ann</td>\n",
       "      <td>02</td>\n",
       "      <td>Ann</td>\n",
       "      <td>8.3</td>\n",
       "    </tr>\n",
       "    <tr>\n",
       "      <th>3</th>\n",
       "      <td>Polina</td>\n",
       "      <td>01</td>\n",
       "      <td>Polina</td>\n",
       "      <td>9</td>\n",
       "    </tr>\n",
       "    <tr>\n",
       "      <th>4</th>\n",
       "      <td>NaN</td>\n",
       "      <td>NaN</td>\n",
       "      <td>Kit</td>\n",
       "      <td>10</td>\n",
       "    </tr>\n",
       "  </tbody>\n",
       "</table>\n",
       "</div>"
      ],
      "text/plain": [
       "  Student group    Name  GPA\n",
       "0     Tom    01     Tom  7.8\n",
       "1    Ujin    02    Ujin  6.4\n",
       "2     Ann    02     Ann  8.3\n",
       "3  Polina    01  Polina    9\n",
       "4     NaN   NaN     Kit   10"
      ]
     },
     "execution_count": 3,
     "metadata": {},
     "output_type": "execute_result"
    }
   ],
   "source": [
    "# right join\n",
    "pd.merge(df1, df2, left_on='Student', right_on='Name', how='right')"
   ]
  },
  {
   "cell_type": "code",
   "execution_count": 4,
   "id": "a609d694",
   "metadata": {},
   "outputs": [
    {
     "data": {
      "text/html": [
       "<div>\n",
       "<style scoped>\n",
       "    .dataframe tbody tr th:only-of-type {\n",
       "        vertical-align: middle;\n",
       "    }\n",
       "\n",
       "    .dataframe tbody tr th {\n",
       "        vertical-align: top;\n",
       "    }\n",
       "\n",
       "    .dataframe thead th {\n",
       "        text-align: right;\n",
       "    }\n",
       "</style>\n",
       "<table border=\"1\" class=\"dataframe\">\n",
       "  <thead>\n",
       "    <tr style=\"text-align: right;\">\n",
       "      <th></th>\n",
       "      <th>Student</th>\n",
       "      <th>group</th>\n",
       "      <th>Name</th>\n",
       "      <th>GPA</th>\n",
       "    </tr>\n",
       "  </thead>\n",
       "  <tbody>\n",
       "    <tr>\n",
       "      <th>0</th>\n",
       "      <td>Tom</td>\n",
       "      <td>01</td>\n",
       "      <td>Tom</td>\n",
       "      <td>7.8</td>\n",
       "    </tr>\n",
       "    <tr>\n",
       "      <th>1</th>\n",
       "      <td>Ujin</td>\n",
       "      <td>02</td>\n",
       "      <td>Ujin</td>\n",
       "      <td>6.4</td>\n",
       "    </tr>\n",
       "    <tr>\n",
       "      <th>2</th>\n",
       "      <td>Ann</td>\n",
       "      <td>02</td>\n",
       "      <td>Ann</td>\n",
       "      <td>8.3</td>\n",
       "    </tr>\n",
       "    <tr>\n",
       "      <th>3</th>\n",
       "      <td>Polina</td>\n",
       "      <td>01</td>\n",
       "      <td>Polina</td>\n",
       "      <td>9</td>\n",
       "    </tr>\n",
       "    <tr>\n",
       "      <th>4</th>\n",
       "      <td>Sam</td>\n",
       "      <td>02</td>\n",
       "      <td>NaN</td>\n",
       "      <td>NaN</td>\n",
       "    </tr>\n",
       "    <tr>\n",
       "      <th>5</th>\n",
       "      <td>NaN</td>\n",
       "      <td>NaN</td>\n",
       "      <td>Kit</td>\n",
       "      <td>10</td>\n",
       "    </tr>\n",
       "  </tbody>\n",
       "</table>\n",
       "</div>"
      ],
      "text/plain": [
       "  Student group    Name  GPA\n",
       "0     Tom    01     Tom  7.8\n",
       "1    Ujin    02    Ujin  6.4\n",
       "2     Ann    02     Ann  8.3\n",
       "3  Polina    01  Polina    9\n",
       "4     Sam    02     NaN  NaN\n",
       "5     NaN   NaN     Kit   10"
      ]
     },
     "execution_count": 4,
     "metadata": {},
     "output_type": "execute_result"
    }
   ],
   "source": [
    "# outer join\n",
    "pd.merge(df1, df2, left_on='Student', right_on='Name', how='outer')"
   ]
  },
  {
   "cell_type": "code",
   "execution_count": 5,
   "id": "32919f06",
   "metadata": {},
   "outputs": [
    {
     "data": {
      "text/html": [
       "<div>\n",
       "<style scoped>\n",
       "    .dataframe tbody tr th:only-of-type {\n",
       "        vertical-align: middle;\n",
       "    }\n",
       "\n",
       "    .dataframe tbody tr th {\n",
       "        vertical-align: top;\n",
       "    }\n",
       "\n",
       "    .dataframe thead th {\n",
       "        text-align: right;\n",
       "    }\n",
       "</style>\n",
       "<table border=\"1\" class=\"dataframe\">\n",
       "  <thead>\n",
       "    <tr style=\"text-align: right;\">\n",
       "      <th></th>\n",
       "      <th>Student</th>\n",
       "      <th>group</th>\n",
       "      <th>Name</th>\n",
       "      <th>GPA</th>\n",
       "    </tr>\n",
       "  </thead>\n",
       "  <tbody>\n",
       "    <tr>\n",
       "      <th>0</th>\n",
       "      <td>Tom</td>\n",
       "      <td>01</td>\n",
       "      <td>Tom</td>\n",
       "      <td>7.8</td>\n",
       "    </tr>\n",
       "    <tr>\n",
       "      <th>1</th>\n",
       "      <td>Ujin</td>\n",
       "      <td>02</td>\n",
       "      <td>Ujin</td>\n",
       "      <td>6.4</td>\n",
       "    </tr>\n",
       "    <tr>\n",
       "      <th>2</th>\n",
       "      <td>Ann</td>\n",
       "      <td>02</td>\n",
       "      <td>Ann</td>\n",
       "      <td>8.3</td>\n",
       "    </tr>\n",
       "    <tr>\n",
       "      <th>3</th>\n",
       "      <td>Polina</td>\n",
       "      <td>01</td>\n",
       "      <td>Polina</td>\n",
       "      <td>9</td>\n",
       "    </tr>\n",
       "    <tr>\n",
       "      <th>4</th>\n",
       "      <td>Sam</td>\n",
       "      <td>02</td>\n",
       "      <td>NaN</td>\n",
       "      <td>NaN</td>\n",
       "    </tr>\n",
       "  </tbody>\n",
       "</table>\n",
       "</div>"
      ],
      "text/plain": [
       "  Student group    Name  GPA\n",
       "0     Tom    01     Tom  7.8\n",
       "1    Ujin    02    Ujin  6.4\n",
       "2     Ann    02     Ann  8.3\n",
       "3  Polina    01  Polina    9\n",
       "4     Sam    02     NaN  NaN"
      ]
     },
     "execution_count": 5,
     "metadata": {},
     "output_type": "execute_result"
    }
   ],
   "source": [
    "# left join - we leave everything in the left table\n",
    "pd.merge(df1, df2, left_on='Student', right_on='Name', how='left')"
   ]
  },
  {
   "cell_type": "code",
   "execution_count": 6,
   "id": "054ce3f6",
   "metadata": {},
   "outputs": [
    {
     "data": {
      "text/html": [
       "<div>\n",
       "<style scoped>\n",
       "    .dataframe tbody tr th:only-of-type {\n",
       "        vertical-align: middle;\n",
       "    }\n",
       "\n",
       "    .dataframe tbody tr th {\n",
       "        vertical-align: top;\n",
       "    }\n",
       "\n",
       "    .dataframe thead th {\n",
       "        text-align: right;\n",
       "    }\n",
       "</style>\n",
       "<table border=\"1\" class=\"dataframe\">\n",
       "  <thead>\n",
       "    <tr style=\"text-align: right;\">\n",
       "      <th></th>\n",
       "      <th>Student</th>\n",
       "      <th>group</th>\n",
       "      <th>Name</th>\n",
       "      <th>GPA</th>\n",
       "    </tr>\n",
       "  </thead>\n",
       "  <tbody>\n",
       "    <tr>\n",
       "      <th>0</th>\n",
       "      <td>Tom</td>\n",
       "      <td>01</td>\n",
       "      <td>Tom</td>\n",
       "      <td>7.8</td>\n",
       "    </tr>\n",
       "    <tr>\n",
       "      <th>1</th>\n",
       "      <td>Ujin</td>\n",
       "      <td>02</td>\n",
       "      <td>Ujin</td>\n",
       "      <td>6.4</td>\n",
       "    </tr>\n",
       "    <tr>\n",
       "      <th>2</th>\n",
       "      <td>Ann</td>\n",
       "      <td>02</td>\n",
       "      <td>Ann</td>\n",
       "      <td>8.3</td>\n",
       "    </tr>\n",
       "    <tr>\n",
       "      <th>3</th>\n",
       "      <td>Polina</td>\n",
       "      <td>01</td>\n",
       "      <td>Polina</td>\n",
       "      <td>9</td>\n",
       "    </tr>\n",
       "  </tbody>\n",
       "</table>\n",
       "</div>"
      ],
      "text/plain": [
       "  Student group    Name  GPA\n",
       "0     Tom    01     Tom  7.8\n",
       "1    Ujin    02    Ujin  6.4\n",
       "2     Ann    02     Ann  8.3\n",
       "3  Polina    01  Polina    9"
      ]
     },
     "execution_count": 6,
     "metadata": {},
     "output_type": "execute_result"
    }
   ],
   "source": [
    "# inner join by default\n",
    "pd.merge(df1, df2, left_on='Student', right_on='Name')"
   ]
  },
  {
   "cell_type": "markdown",
   "id": "53bf025e",
   "metadata": {},
   "source": [
    "### Concatenation"
   ]
  },
  {
   "cell_type": "code",
   "execution_count": 7,
   "id": "d90c698c",
   "metadata": {},
   "outputs": [
    {
     "data": {
      "text/html": [
       "<div>\n",
       "<style scoped>\n",
       "    .dataframe tbody tr th:only-of-type {\n",
       "        vertical-align: middle;\n",
       "    }\n",
       "\n",
       "    .dataframe tbody tr th {\n",
       "        vertical-align: top;\n",
       "    }\n",
       "\n",
       "    .dataframe thead th {\n",
       "        text-align: right;\n",
       "    }\n",
       "</style>\n",
       "<table border=\"1\" class=\"dataframe\">\n",
       "  <thead>\n",
       "    <tr style=\"text-align: right;\">\n",
       "      <th></th>\n",
       "      <th>name</th>\n",
       "      <th>students</th>\n",
       "    </tr>\n",
       "  </thead>\n",
       "  <tbody>\n",
       "    <tr>\n",
       "      <th>0</th>\n",
       "      <td>Max</td>\n",
       "      <td>20</td>\n",
       "    </tr>\n",
       "    <tr>\n",
       "      <th>1</th>\n",
       "      <td>Phil</td>\n",
       "      <td>21</td>\n",
       "    </tr>\n",
       "    <tr>\n",
       "      <th>2</th>\n",
       "      <td>Vlad</td>\n",
       "      <td>30</td>\n",
       "    </tr>\n",
       "    <tr>\n",
       "      <th>3</th>\n",
       "      <td>Nastya</td>\n",
       "      <td>42</td>\n",
       "    </tr>\n",
       "  </tbody>\n",
       "</table>\n",
       "</div>"
      ],
      "text/plain": [
       "     name  students\n",
       "0     Max        20\n",
       "1    Phil        21\n",
       "2    Vlad        30\n",
       "3  Nastya        42"
      ]
     },
     "metadata": {},
     "output_type": "display_data"
    },
    {
     "data": {
      "text/html": [
       "<div>\n",
       "<style scoped>\n",
       "    .dataframe tbody tr th:only-of-type {\n",
       "        vertical-align: middle;\n",
       "    }\n",
       "\n",
       "    .dataframe tbody tr th {\n",
       "        vertical-align: top;\n",
       "    }\n",
       "\n",
       "    .dataframe thead th {\n",
       "        text-align: right;\n",
       "    }\n",
       "</style>\n",
       "<table border=\"1\" class=\"dataframe\">\n",
       "  <thead>\n",
       "    <tr style=\"text-align: right;\">\n",
       "      <th></th>\n",
       "      <th>name</th>\n",
       "      <th>students</th>\n",
       "    </tr>\n",
       "  </thead>\n",
       "  <tbody>\n",
       "    <tr>\n",
       "      <th>0</th>\n",
       "      <td>Ahmed</td>\n",
       "      <td>50</td>\n",
       "    </tr>\n",
       "    <tr>\n",
       "      <th>1</th>\n",
       "      <td>Andrey</td>\n",
       "      <td>40</td>\n",
       "    </tr>\n",
       "  </tbody>\n",
       "</table>\n",
       "</div>"
      ],
      "text/plain": [
       "     name  students\n",
       "0   Ahmed        50\n",
       "1  Andrey        40"
      ]
     },
     "metadata": {},
     "output_type": "display_data"
    }
   ],
   "source": [
    "df1 = pd.DataFrame({'name': ['Max', 'Phil', 'Vlad', 'Nastya'], 'students': [20, 21, 30, 42]})\n",
    "df2 = pd.DataFrame({'name': ['Ahmed', 'Andrey'], 'students': [50, 40]})\n",
    "\n",
    "display(df1, df2)"
   ]
  },
  {
   "cell_type": "code",
   "execution_count": 8,
   "id": "f9c9b069",
   "metadata": {},
   "outputs": [
    {
     "data": {
      "text/html": [
       "<div>\n",
       "<style scoped>\n",
       "    .dataframe tbody tr th:only-of-type {\n",
       "        vertical-align: middle;\n",
       "    }\n",
       "\n",
       "    .dataframe tbody tr th {\n",
       "        vertical-align: top;\n",
       "    }\n",
       "\n",
       "    .dataframe thead th {\n",
       "        text-align: right;\n",
       "    }\n",
       "</style>\n",
       "<table border=\"1\" class=\"dataframe\">\n",
       "  <thead>\n",
       "    <tr style=\"text-align: right;\">\n",
       "      <th></th>\n",
       "      <th>name</th>\n",
       "      <th>students</th>\n",
       "    </tr>\n",
       "  </thead>\n",
       "  <tbody>\n",
       "    <tr>\n",
       "      <th>0</th>\n",
       "      <td>Max</td>\n",
       "      <td>20</td>\n",
       "    </tr>\n",
       "    <tr>\n",
       "      <th>1</th>\n",
       "      <td>Phil</td>\n",
       "      <td>21</td>\n",
       "    </tr>\n",
       "    <tr>\n",
       "      <th>2</th>\n",
       "      <td>Vlad</td>\n",
       "      <td>30</td>\n",
       "    </tr>\n",
       "    <tr>\n",
       "      <th>3</th>\n",
       "      <td>Nastya</td>\n",
       "      <td>42</td>\n",
       "    </tr>\n",
       "    <tr>\n",
       "      <th>4</th>\n",
       "      <td>Ahmed</td>\n",
       "      <td>50</td>\n",
       "    </tr>\n",
       "    <tr>\n",
       "      <th>5</th>\n",
       "      <td>Andrey</td>\n",
       "      <td>40</td>\n",
       "    </tr>\n",
       "  </tbody>\n",
       "</table>\n",
       "</div>"
      ],
      "text/plain": [
       "     name  students\n",
       "0     Max        20\n",
       "1    Phil        21\n",
       "2    Vlad        30\n",
       "3  Nastya        42\n",
       "4   Ahmed        50\n",
       "5  Andrey        40"
      ]
     },
     "execution_count": 8,
     "metadata": {},
     "output_type": "execute_result"
    }
   ],
   "source": [
    "pd.concat([df1, df2]).reset_index(drop=True)"
   ]
  },
  {
   "cell_type": "markdown",
   "id": "97aa33dc",
   "metadata": {},
   "source": [
    "### Example on YouTube clips"
   ]
  },
  {
   "cell_type": "markdown",
   "id": "f340bb7d",
   "metadata": {},
   "source": [
    "In the future we will work with a database containing information about YouTube clips. There are several tables in the database, between which connections are built. The structure looks like this:"
   ]
  },
  {
   "cell_type": "markdown",
   "id": "954b99f4",
   "metadata": {},
   "source": [
    "<center>\n",
    "<img src=\"https://github.com/hse-econ-data-science/dap_2021_spring/blob/main/sem09_pandas/images/struct.png?raw=true\" height=\"500\" width=\"500\">\n",
    "</center>"
   ]
  },
  {
   "cell_type": "markdown",
   "id": "69763789",
   "metadata": {},
   "source": [
    "__Column Description:__\n",
    "\n",
    "* 'id_title' $-$ unique id of the video title\n",
    "* 'id_music_style' $-$ unique genre id\n",
    "* 'id_performer' $-$ unique artist id\n",
    "* 'title' $-$ video title\n",
    "* 'comment Count' $-$ number of comments\n",
    "* 'dislikecounts' $-$ number of dislikes\n",
    "* 'like Count' $-$ number of likes\n",
    "* 'music_style' $-$ music style\n",
    "* 'performer' $-$ performer\n",
    "* 'view Count' $-$ number of views\n",
    "* 'commentators_uniq' $-$ the number of unique commentators\n",
    "* 'comments_obscene_cnt' $-$ number of negative comments\n",
    "* 'video_age' $-$ the age of the video in days (at the time of '2019-03-15')"
   ]
  },
  {
   "cell_type": "code",
   "execution_count": 9,
   "id": "b6fc2a36",
   "metadata": {},
   "outputs": [],
   "source": [
    "# let's load all the tables\n",
    "df_perf = pd.read_csv('data/performer_table.csv', sep=';')\n",
    "df_title = pd.read_csv('data/title_table.csv', sep=';')\n",
    "df_genre = pd.read_csv('data/music_style_table.csv', sep=';')\n",
    "\n",
    "df_stat = pd.read_csv('data/title_stat_table.csv', sep=';')"
   ]
  },
  {
   "cell_type": "markdown",
   "id": "4b292408",
   "metadata": {},
   "source": [
    "##### Task #1:\n",
    "\n",
    "Which performer gets the most hate? (hate is determined by the number of negative comments)"
   ]
  },
  {
   "cell_type": "code",
   "execution_count": 10,
   "id": "4126fd8c",
   "metadata": {},
   "outputs": [
    {
     "data": {
      "text/plain": [
       "17499    100020\n",
       "Name: id_performer, dtype: int64"
      ]
     },
     "execution_count": 10,
     "metadata": {},
     "output_type": "execute_result"
    }
   ],
   "source": [
    "# # without merge\n",
    "id_ = df_stat[df_stat['comments_obscene_cnt'] == df_stat['comments_obscene_cnt'].max()]['id_performer']\n",
    "id_"
   ]
  },
  {
   "cell_type": "code",
   "execution_count": 11,
   "id": "ed6c28bc",
   "metadata": {},
   "outputs": [
    {
     "data": {
      "text/plain": [
       "29    gazgolder\n",
       "Name: performer, dtype: object"
      ]
     },
     "execution_count": 11,
     "metadata": {},
     "output_type": "execute_result"
    }
   ],
   "source": [
    "df_perf[df_perf['id_performer'] == 100020]['performer']"
   ]
  },
  {
   "cell_type": "code",
   "execution_count": 12,
   "id": "1ebc1017",
   "metadata": {},
   "outputs": [
    {
     "data": {
      "text/plain": [
       "17499    gazgolder\n",
       "Name: performer, dtype: object"
      ]
     },
     "execution_count": 12,
     "metadata": {},
     "output_type": "execute_result"
    }
   ],
   "source": [
    "# with merge\n",
    "merged_df = pd.merge(df_stat, df_perf, on='id_performer')\n",
    "merged_df[merged_df['comments_obscene_cnt'] == merged_df['comments_obscene_cnt'].max()]['performer']"
   ]
  },
  {
   "cell_type": "markdown",
   "id": "9fb0a038",
   "metadata": {},
   "source": [
    "##### Task #2:\n",
    "\n",
    "For each genre, output the number of views of the most popular clip? Who is its performer? What is the name of the clip?"
   ]
  },
  {
   "cell_type": "code",
   "execution_count": 13,
   "id": "31ded10e",
   "metadata": {},
   "outputs": [],
   "source": [
    "## Your code"
   ]
  },
  {
   "cell_type": "markdown",
   "id": "ca07cf0c",
   "metadata": {},
   "source": [
    "## Types of variables"
   ]
  },
  {
   "cell_type": "markdown",
   "id": "043640d2",
   "metadata": {},
   "source": [
    "__classification of variables by data type:__  \n",
    "\n",
    "* 'int' $-$ numeric, integers (1000, 0, -1)\n",
    "* 'float' $-$ numeric, real numbers (1.0, 2.564523)\n",
    "* 'object' $-$ string (butyrka, JPMorgan, f12aaz//)\n",
    "* 'bool` $-$ Boolean (True, False)\n",
    "* 'datetime' $-$ date (2020-01-12, 23.Jan.20)\n",
    "\n",
    "\n",
    "__classification of variables by meaning:__  \n",
    "\n",
    "* 'Continuous' $-$ contain a continuous set of values at some interval (s/n, height of a person, weight of a loaf of bread, etc.)\n",
    "* 'Categorical' $-$ contain a finite small set of values (age of children, type of store)\n",
    "* 'Binary' $-$ subtype of a categorical variable having only 2 categories (gender, capitals of two countries)"
   ]
  },
  {
   "cell_type": "code",
   "execution_count": 14,
   "id": "15874874",
   "metadata": {},
   "outputs": [],
   "source": [
    "df = pd.read_csv('data/youtube_data_short.csv', sep='\\t')"
   ]
  },
  {
   "cell_type": "code",
   "execution_count": 15,
   "id": "d0d0d449",
   "metadata": {},
   "outputs": [
    {
     "data": {
      "text/plain": [
       "title                    object\n",
       "commentCount            float64\n",
       "dislikeCount            float64\n",
       "likeCount               float64\n",
       "music_style              object\n",
       "performer                object\n",
       "viewCount               float64\n",
       "commentators_uniq       float64\n",
       "comments_obscene_cnt    float64\n",
       "video_age                 int64\n",
       "dtype: object"
      ]
     },
     "execution_count": 15,
     "metadata": {},
     "output_type": "execute_result"
    }
   ],
   "source": [
    "# we look at the types of variables\n",
    "df.dtypes"
   ]
  },
  {
   "cell_type": "markdown",
   "id": "ecb88fac",
   "metadata": {},
   "source": [
    "## Working with categorical variables"
   ]
  },
  {
   "cell_type": "markdown",
   "id": "114ada58",
   "metadata": {},
   "source": [
    "### When there are two categories:"
   ]
  },
  {
   "cell_type": "markdown",
   "id": "57b44159",
   "metadata": {},
   "source": [
    "We will select only clips of the genre `rock` and `rap`. Let's imagine that they are the only ones we are interested in."
   ]
  },
  {
   "cell_type": "code",
   "execution_count": 16,
   "id": "8df82b73",
   "metadata": {},
   "outputs": [
    {
     "data": {
      "text/plain": [
       "rock       5888\n",
       "estrada    4151\n",
       "popsa      3339\n",
       "shanson    2061\n",
       "rap        2028\n",
       "indi       1359\n",
       "classic     298\n",
       "Name: music_style, dtype: int64"
      ]
     },
     "execution_count": 16,
     "metadata": {},
     "output_type": "execute_result"
    }
   ],
   "source": [
    "df.music_style.value_counts()"
   ]
  },
  {
   "cell_type": "code",
   "execution_count": 17,
   "id": "247356d3",
   "metadata": {},
   "outputs": [
    {
     "data": {
      "text/html": [
       "<div>\n",
       "<style scoped>\n",
       "    .dataframe tbody tr th:only-of-type {\n",
       "        vertical-align: middle;\n",
       "    }\n",
       "\n",
       "    .dataframe tbody tr th {\n",
       "        vertical-align: top;\n",
       "    }\n",
       "\n",
       "    .dataframe thead th {\n",
       "        text-align: right;\n",
       "    }\n",
       "</style>\n",
       "<table border=\"1\" class=\"dataframe\">\n",
       "  <thead>\n",
       "    <tr style=\"text-align: right;\">\n",
       "      <th></th>\n",
       "      <th>title</th>\n",
       "      <th>commentCount</th>\n",
       "      <th>dislikeCount</th>\n",
       "      <th>likeCount</th>\n",
       "      <th>music_style</th>\n",
       "      <th>performer</th>\n",
       "      <th>viewCount</th>\n",
       "      <th>commentators_uniq</th>\n",
       "      <th>comments_obscene_cnt</th>\n",
       "      <th>video_age</th>\n",
       "    </tr>\n",
       "  </thead>\n",
       "  <tbody>\n",
       "    <tr>\n",
       "      <th>8</th>\n",
       "      <td>\"Hey Tovarish\" Video Shooting</td>\n",
       "      <td>10.0</td>\n",
       "      <td>1.0</td>\n",
       "      <td>34.0</td>\n",
       "      <td>rock</td>\n",
       "      <td>мумий_тролль</td>\n",
       "      <td>3815.0</td>\n",
       "      <td>9.0</td>\n",
       "      <td>0.0</td>\n",
       "      <td>2539</td>\n",
       "    </tr>\n",
       "    <tr>\n",
       "      <th>15</th>\n",
       "      <td>\"SOS Матросу!\" - тизер фильма</td>\n",
       "      <td>10.0</td>\n",
       "      <td>4.0</td>\n",
       "      <td>68.0</td>\n",
       "      <td>rock</td>\n",
       "      <td>мумий_тролль</td>\n",
       "      <td>7632.0</td>\n",
       "      <td>5.0</td>\n",
       "      <td>0.0</td>\n",
       "      <td>1739</td>\n",
       "    </tr>\n",
       "    <tr>\n",
       "      <th>36</th>\n",
       "      <td>\"ВОИН ДУМА\"</td>\n",
       "      <td>4.0</td>\n",
       "      <td>0.0</td>\n",
       "      <td>49.0</td>\n",
       "      <td>rock</td>\n",
       "      <td>король_и_шут</td>\n",
       "      <td>1950.0</td>\n",
       "      <td>NaN</td>\n",
       "      <td>NaN</td>\n",
       "      <td>3819</td>\n",
       "    </tr>\n",
       "    <tr>\n",
       "      <th>38</th>\n",
       "      <td>\"Виктор Цой. 50 лет\" Кукрыниксы - Печаль, Конч...</td>\n",
       "      <td>2.0</td>\n",
       "      <td>4.0</td>\n",
       "      <td>65.0</td>\n",
       "      <td>rock</td>\n",
       "      <td>кукрыниксы</td>\n",
       "      <td>9986.0</td>\n",
       "      <td>2.0</td>\n",
       "      <td>0.0</td>\n",
       "      <td>2351</td>\n",
       "    </tr>\n",
       "    <tr>\n",
       "      <th>40</th>\n",
       "      <td>\"Всё, что было\". Начало.</td>\n",
       "      <td>23.0</td>\n",
       "      <td>5.0</td>\n",
       "      <td>171.0</td>\n",
       "      <td>rock</td>\n",
       "      <td>ария</td>\n",
       "      <td>11168.0</td>\n",
       "      <td>21.0</td>\n",
       "      <td>1.0</td>\n",
       "      <td>2351</td>\n",
       "    </tr>\n",
       "  </tbody>\n",
       "</table>\n",
       "</div>"
      ],
      "text/plain": [
       "                                                title  commentCount  \\\n",
       "8                       \"Hey Tovarish\" Video Shooting          10.0   \n",
       "15                      \"SOS Матросу!\" - тизер фильма          10.0   \n",
       "36                                        \"ВОИН ДУМА\"           4.0   \n",
       "38  \"Виктор Цой. 50 лет\" Кукрыниксы - Печаль, Конч...           2.0   \n",
       "40                           \"Всё, что было\". Начало.          23.0   \n",
       "\n",
       "    dislikeCount  likeCount music_style     performer  viewCount  \\\n",
       "8            1.0       34.0        rock  мумий_тролль     3815.0   \n",
       "15           4.0       68.0        rock  мумий_тролль     7632.0   \n",
       "36           0.0       49.0        rock  король_и_шут     1950.0   \n",
       "38           4.0       65.0        rock    кукрыниксы     9986.0   \n",
       "40           5.0      171.0        rock          ария    11168.0   \n",
       "\n",
       "    commentators_uniq  comments_obscene_cnt  video_age  \n",
       "8                 9.0                   0.0       2539  \n",
       "15                5.0                   0.0       1739  \n",
       "36                NaN                   NaN       3819  \n",
       "38                2.0                   0.0       2351  \n",
       "40               21.0                   1.0       2351  "
      ]
     },
     "execution_count": 17,
     "metadata": {},
     "output_type": "execute_result"
    }
   ],
   "source": [
    "genres_to_keep = ['rock', 'rap']\n",
    "\n",
    "df_small = df[df.music_style.isin(genres_to_keep)]\n",
    "df_small.head()"
   ]
  },
  {
   "cell_type": "code",
   "execution_count": 18,
   "id": "4cf20b01",
   "metadata": {},
   "outputs": [
    {
     "data": {
      "text/plain": [
       "rock    5888\n",
       "rap     2028\n",
       "Name: music_style, dtype: int64"
      ]
     },
     "execution_count": 18,
     "metadata": {},
     "output_type": "execute_result"
    }
   ],
   "source": [
    "df_small.music_style.value_counts()"
   ]
  },
  {
   "cell_type": "markdown",
   "id": "d6ade93f",
   "metadata": {},
   "source": [
    "In such a \"sub-frame\", our column 'music_style' has the type `object` (because it contains strings), and is also `binary`, since it contains only two values (`rock` and `rap`)"
   ]
  },
  {
   "cell_type": "markdown",
   "id": "fa454813",
   "metadata": {},
   "source": [
    "However, the problem with string variables is that many models do not know how to work with them. The computer is more used to operating with numbers. \n",
    "\n",
    "That is why simple manipulations are performed on string binary variables. Either encode them into numbers 1 / 0, or create a Boolean type True / False, which is to some extent the same thing. \n",
    "\n",
    "Let's try to convert our binary string variable music_style:"
   ]
  },
  {
   "cell_type": "code",
   "execution_count": 19,
   "id": "6d57e1bc",
   "metadata": {},
   "outputs": [
    {
     "name": "stderr",
     "output_type": "stream",
     "text": [
      "<ipython-input-19-21b19c4d8243>:3: SettingWithCopyWarning: \n",
      "A value is trying to be set on a copy of a slice from a DataFrame.\n",
      "Try using .loc[row_indexer,col_indexer] = value instead\n",
      "\n",
      "See the caveats in the documentation: https://pandas.pydata.org/pandas-docs/stable/user_guide/indexing.html#returning-a-view-versus-a-copy\n",
      "  df_small['is_rock'] = df_small['music_style'].map(d)\n"
     ]
    }
   ],
   "source": [
    "d = {'rock': 1, 'rap': 0}\n",
    "\n",
    "df_small['is_rock'] = df_small['music_style'].map(d)"
   ]
  },
  {
   "cell_type": "code",
   "execution_count": 20,
   "id": "eebc50d2",
   "metadata": {},
   "outputs": [
    {
     "data": {
      "text/html": [
       "<div>\n",
       "<style scoped>\n",
       "    .dataframe tbody tr th:only-of-type {\n",
       "        vertical-align: middle;\n",
       "    }\n",
       "\n",
       "    .dataframe tbody tr th {\n",
       "        vertical-align: top;\n",
       "    }\n",
       "\n",
       "    .dataframe thead th {\n",
       "        text-align: right;\n",
       "    }\n",
       "</style>\n",
       "<table border=\"1\" class=\"dataframe\">\n",
       "  <thead>\n",
       "    <tr style=\"text-align: right;\">\n",
       "      <th></th>\n",
       "      <th>title</th>\n",
       "      <th>commentCount</th>\n",
       "      <th>dislikeCount</th>\n",
       "      <th>likeCount</th>\n",
       "      <th>music_style</th>\n",
       "      <th>performer</th>\n",
       "      <th>viewCount</th>\n",
       "      <th>commentators_uniq</th>\n",
       "      <th>comments_obscene_cnt</th>\n",
       "      <th>video_age</th>\n",
       "      <th>is_rock</th>\n",
       "    </tr>\n",
       "  </thead>\n",
       "  <tbody>\n",
       "    <tr>\n",
       "      <th>8</th>\n",
       "      <td>\"Hey Tovarish\" Video Shooting</td>\n",
       "      <td>10.0</td>\n",
       "      <td>1.0</td>\n",
       "      <td>34.0</td>\n",
       "      <td>rock</td>\n",
       "      <td>мумий_тролль</td>\n",
       "      <td>3815.0</td>\n",
       "      <td>9.0</td>\n",
       "      <td>0.0</td>\n",
       "      <td>2539</td>\n",
       "      <td>1</td>\n",
       "    </tr>\n",
       "    <tr>\n",
       "      <th>15</th>\n",
       "      <td>\"SOS Матросу!\" - тизер фильма</td>\n",
       "      <td>10.0</td>\n",
       "      <td>4.0</td>\n",
       "      <td>68.0</td>\n",
       "      <td>rock</td>\n",
       "      <td>мумий_тролль</td>\n",
       "      <td>7632.0</td>\n",
       "      <td>5.0</td>\n",
       "      <td>0.0</td>\n",
       "      <td>1739</td>\n",
       "      <td>1</td>\n",
       "    </tr>\n",
       "  </tbody>\n",
       "</table>\n",
       "</div>"
      ],
      "text/plain": [
       "                            title  commentCount  dislikeCount  likeCount  \\\n",
       "8   \"Hey Tovarish\" Video Shooting          10.0           1.0       34.0   \n",
       "15  \"SOS Матросу!\" - тизер фильма          10.0           4.0       68.0   \n",
       "\n",
       "   music_style     performer  viewCount  commentators_uniq  \\\n",
       "8         rock  мумий_тролль     3815.0                9.0   \n",
       "15        rock  мумий_тролль     7632.0                5.0   \n",
       "\n",
       "    comments_obscene_cnt  video_age  is_rock  \n",
       "8                    0.0       2539        1  \n",
       "15                   0.0       1739        1  "
      ]
     },
     "execution_count": 20,
     "metadata": {},
     "output_type": "execute_result"
    }
   ],
   "source": [
    "df_small.head(2)"
   ]
  },
  {
   "cell_type": "markdown",
   "id": "068bc9e7",
   "metadata": {},
   "source": [
    "##### Task #3: \n",
    "What is the proportion of observations of both genres?"
   ]
  },
  {
   "cell_type": "code",
   "execution_count": 21,
   "id": "35c7c884",
   "metadata": {},
   "outputs": [],
   "source": [
    "## Your code"
   ]
  },
  {
   "cell_type": "markdown",
   "id": "68edf8d6",
   "metadata": {},
   "source": [
    "### When there are more than two categories"
   ]
  },
  {
   "cell_type": "markdown",
   "id": "b2b88a50",
   "metadata": {},
   "source": [
    "Let's go back to our full dataframe. In it, music_style takes not 2 values, but as many as 7. What should I do in this case?"
   ]
  },
  {
   "cell_type": "markdown",
   "id": "fe63777b",
   "metadata": {},
   "source": [
    "**Naive method:** Let's match some number to each value from music_style. This method is called Label Encoding. Think in advance, what problems can such a method create?"
   ]
  },
  {
   "cell_type": "code",
   "execution_count": 22,
   "id": "ea5d9211",
   "metadata": {},
   "outputs": [
    {
     "data": {
      "text/plain": [
       "array(['popsa', 'rock', 'classic', 'indi', 'estrada', 'shanson', 'rap'],\n",
       "      dtype=object)"
      ]
     },
     "execution_count": 22,
     "metadata": {},
     "output_type": "execute_result"
    }
   ],
   "source": [
    "df.music_style.unique()"
   ]
  },
  {
   "cell_type": "code",
   "execution_count": 23,
   "id": "65e32fc8",
   "metadata": {},
   "outputs": [
    {
     "name": "stdout",
     "output_type": "stream",
     "text": [
      "{'popsa': 0, 'rock': 1, 'classic': 2, 'indi': 3, 'estrada': 4, 'shanson': 5, 'rap': 6}\n"
     ]
    }
   ],
   "source": [
    "# creating a dictionary\n",
    "d = dict(zip(df.music_style.unique(), np.arange(7)))\n",
    "print(d)\n",
    "\n",
    "# let's transform\n",
    "df['music_style_int'] = df['music_style'].map(d)"
   ]
  },
  {
   "cell_type": "markdown",
   "id": "3d674cf7",
   "metadata": {},
   "source": [
    "However, the problem with this method is that we involuntarily set the **order** on our categories\n",
    "\n",
    "\n",
    "To avoid this, another method is more often used: **One Hot Encoding**"
   ]
  },
  {
   "cell_type": "markdown",
   "id": "0fc25fc8",
   "metadata": {},
   "source": [
    "<center>\n",
    "<img src=\"https://4.bp.blogspot.com/-iC7OQxsaPY0/XMdB9Q9QahI/AAAAAAAAGoY/qEStugMphDIbUIabd_taWCzTyscXzxOPgCLcBGAs/s1600/human_transpose.JPG\" height=\"200\" width=\"600\">\n",
    "</center>   "
   ]
  },
  {
   "cell_type": "markdown",
   "id": "6012dbb1",
   "metadata": {},
   "source": [
    "In pandas, such a conversion can be done using the `get_dummies()` function"
   ]
  },
  {
   "cell_type": "code",
   "execution_count": 24,
   "id": "0f34e260",
   "metadata": {},
   "outputs": [
    {
     "data": {
      "text/html": [
       "<div>\n",
       "<style scoped>\n",
       "    .dataframe tbody tr th:only-of-type {\n",
       "        vertical-align: middle;\n",
       "    }\n",
       "\n",
       "    .dataframe tbody tr th {\n",
       "        vertical-align: top;\n",
       "    }\n",
       "\n",
       "    .dataframe thead th {\n",
       "        text-align: right;\n",
       "    }\n",
       "</style>\n",
       "<table border=\"1\" class=\"dataframe\">\n",
       "  <thead>\n",
       "    <tr style=\"text-align: right;\">\n",
       "      <th></th>\n",
       "      <th>classic</th>\n",
       "      <th>estrada</th>\n",
       "      <th>indi</th>\n",
       "      <th>popsa</th>\n",
       "      <th>rap</th>\n",
       "      <th>rock</th>\n",
       "      <th>shanson</th>\n",
       "    </tr>\n",
       "  </thead>\n",
       "  <tbody>\n",
       "    <tr>\n",
       "      <th>0</th>\n",
       "      <td>0</td>\n",
       "      <td>0</td>\n",
       "      <td>0</td>\n",
       "      <td>1</td>\n",
       "      <td>0</td>\n",
       "      <td>0</td>\n",
       "      <td>0</td>\n",
       "    </tr>\n",
       "    <tr>\n",
       "      <th>1</th>\n",
       "      <td>0</td>\n",
       "      <td>0</td>\n",
       "      <td>0</td>\n",
       "      <td>1</td>\n",
       "      <td>0</td>\n",
       "      <td>0</td>\n",
       "      <td>0</td>\n",
       "    </tr>\n",
       "    <tr>\n",
       "      <th>2</th>\n",
       "      <td>0</td>\n",
       "      <td>0</td>\n",
       "      <td>0</td>\n",
       "      <td>1</td>\n",
       "      <td>0</td>\n",
       "      <td>0</td>\n",
       "      <td>0</td>\n",
       "    </tr>\n",
       "    <tr>\n",
       "      <th>3</th>\n",
       "      <td>0</td>\n",
       "      <td>0</td>\n",
       "      <td>0</td>\n",
       "      <td>1</td>\n",
       "      <td>0</td>\n",
       "      <td>0</td>\n",
       "      <td>0</td>\n",
       "    </tr>\n",
       "    <tr>\n",
       "      <th>4</th>\n",
       "      <td>0</td>\n",
       "      <td>0</td>\n",
       "      <td>0</td>\n",
       "      <td>1</td>\n",
       "      <td>0</td>\n",
       "      <td>0</td>\n",
       "      <td>0</td>\n",
       "    </tr>\n",
       "  </tbody>\n",
       "</table>\n",
       "</div>"
      ],
      "text/plain": [
       "   classic  estrada  indi  popsa  rap  rock  shanson\n",
       "0        0        0     0      1    0     0        0\n",
       "1        0        0     0      1    0     0        0\n",
       "2        0        0     0      1    0     0        0\n",
       "3        0        0     0      1    0     0        0\n",
       "4        0        0     0      1    0     0        0"
      ]
     },
     "execution_count": 24,
     "metadata": {},
     "output_type": "execute_result"
    }
   ],
   "source": [
    "pd.get_dummies(df['music_style']).head()"
   ]
  },
  {
   "cell_type": "markdown",
   "id": "80c8544f",
   "metadata": {},
   "source": [
    "This method also has its own problems that go beyond the scope of our course. For example, it is a complete multicollinearity (or linear dependence) columns. More information about this can be found here: https://www.youtube.com/watch?v=k9PPuTmTLMk"
   ]
  },
  {
   "cell_type": "markdown",
   "id": "ac77ddb3",
   "metadata": {},
   "source": [
    "## Working with date and time"
   ]
  },
  {
   "cell_type": "markdown",
   "id": "57c45f22",
   "metadata": {},
   "source": [
    "Python has its own type of variables for date and time: datetime / timestamp. All useful methods that operate on dates can be found either in the pandas package or in the additional `datetime` package"
   ]
  },
  {
   "cell_type": "code",
   "execution_count": 25,
   "id": "bd72c49c",
   "metadata": {},
   "outputs": [
    {
     "data": {
      "text/plain": [
       "Timestamp('2020-01-01 00:00:00')"
      ]
     },
     "execution_count": 25,
     "metadata": {},
     "output_type": "execute_result"
    }
   ],
   "source": [
    "# get the date from the string\n",
    "pd.to_datetime('01/01/20')"
   ]
  },
  {
   "cell_type": "code",
   "execution_count": 26,
   "id": "053d4f72",
   "metadata": {},
   "outputs": [
    {
     "data": {
      "text/plain": [
       "datetime.datetime(2021, 11, 19, 4, 49, 29, 143321)"
      ]
     },
     "execution_count": 26,
     "metadata": {},
     "output_type": "execute_result"
    }
   ],
   "source": [
    "# you can get today's date\n",
    "from datetime import datetime\n",
    "\n",
    "datetime.today()"
   ]
  },
  {
   "cell_type": "code",
   "execution_count": 27,
   "id": "392693dc",
   "metadata": {},
   "outputs": [
    {
     "data": {
      "text/plain": [
       "2021"
      ]
     },
     "execution_count": 27,
     "metadata": {},
     "output_type": "execute_result"
    }
   ],
   "source": [
    "# what year is it today?\n",
    "datetime.today().year"
   ]
  },
  {
   "cell_type": "code",
   "execution_count": 28,
   "id": "62b6eeca",
   "metadata": {},
   "outputs": [
    {
     "data": {
      "text/plain": [
       "'19/November/21 04 04'"
      ]
     },
     "execution_count": 28,
     "metadata": {},
     "output_type": "execute_result"
    }
   ],
   "source": [
    "# convert it to a string in a format that is convenient for us\n",
    "datetime.today().strftime('%d/%B/%y %H %I')"
   ]
  },
  {
   "cell_type": "code",
   "execution_count": 29,
   "id": "170b651d",
   "metadata": {},
   "outputs": [
    {
     "data": {
      "text/plain": [
       "9"
      ]
     },
     "execution_count": 29,
     "metadata": {},
     "output_type": "execute_result"
    }
   ],
   "source": [
    "from datetime import timedelta\n",
    "\n",
    "# what month was 50 days ago?\n",
    "(datetime.today() - timedelta(days=50)).month"
   ]
  },
  {
   "cell_type": "code",
   "execution_count": 30,
   "id": "84914ded",
   "metadata": {},
   "outputs": [
    {
     "data": {
      "text/plain": [
       "datetime.datetime(2021, 9, 30, 4, 49, 29, 193681)"
      ]
     },
     "execution_count": 30,
     "metadata": {},
     "output_type": "execute_result"
    }
   ],
   "source": [
    "datetime.today() - timedelta(days=50)"
   ]
  },
  {
   "cell_type": "markdown",
   "id": "0240b949",
   "metadata": {},
   "source": [
    "##### Task #4: \n",
    "\n",
    "In our dataset there is a column `video_age`, which shows us the age of our clip in days from March 15, 2019. Based on it, get the publication date for each clip and save it to a new column."
   ]
  },
  {
   "cell_type": "code",
   "execution_count": 31,
   "id": "1028de4d",
   "metadata": {},
   "outputs": [],
   "source": [
    "## Your code"
   ]
  },
  {
   "cell_type": "markdown",
   "id": "3534f21a",
   "metadata": {},
   "source": [
    "##### Task #5:\n",
    "\n",
    "What is the distribution of the number of released clips by year?"
   ]
  },
  {
   "cell_type": "code",
   "execution_count": 32,
   "id": "3f948095",
   "metadata": {},
   "outputs": [],
   "source": [
    "## Your code"
   ]
  },
  {
   "cell_type": "markdown",
   "id": "44b45a93",
   "metadata": {},
   "source": [
    "##### Task #6:\n",
    "\n",
    "Output the month during which the most clips were published on YouTube"
   ]
  },
  {
   "cell_type": "code",
   "execution_count": 33,
   "id": "331acdfe",
   "metadata": {},
   "outputs": [],
   "source": [
    "## Your code"
   ]
  },
  {
   "cell_type": "markdown",
   "id": "92bf50fe",
   "metadata": {},
   "source": [
    "## Missing values"
   ]
  },
  {
   "cell_type": "markdown",
   "id": "e615823d",
   "metadata": {},
   "source": [
    "Missing data $-$ is a nasty problem that you can encounter when working. Omissions occur almost always. The reasons for the omissions may be, for example, the technical capabilities of your parser, which could not get some of the information from the site, or, for example, if you are Yuri Dud and interview people about their earnings, collecting statistics for further research, it is unlikely that everyone will want to answer you."
   ]
  },
  {
   "cell_type": "markdown",
   "id": "16e2edc1",
   "metadata": {},
   "source": [
    "### Identification"
   ]
  },
  {
   "cell_type": "code",
   "execution_count": 34,
   "id": "87183397",
   "metadata": {},
   "outputs": [
    {
     "name": "stdout",
     "output_type": "stream",
     "text": [
      "<class 'pandas.core.frame.DataFrame'>\n",
      "RangeIndex: 19124 entries, 0 to 19123\n",
      "Data columns (total 11 columns):\n",
      " #   Column                Non-Null Count  Dtype  \n",
      "---  ------                --------------  -----  \n",
      " 0   title                 19124 non-null  object \n",
      " 1   commentCount          18914 non-null  float64\n",
      " 2   dislikeCount          18850 non-null  float64\n",
      " 3   likeCount             18850 non-null  float64\n",
      " 4   music_style           19124 non-null  object \n",
      " 5   performer             19124 non-null  object \n",
      " 6   viewCount             19123 non-null  float64\n",
      " 7   commentators_uniq     12314 non-null  float64\n",
      " 8   comments_obscene_cnt  12314 non-null  float64\n",
      " 9   video_age             19124 non-null  int64  \n",
      " 10  music_style_int       19124 non-null  int64  \n",
      "dtypes: float64(6), int64(2), object(3)\n",
      "memory usage: 1.6+ MB\n"
     ]
    }
   ],
   "source": [
    "df.info()"
   ]
  },
  {
   "cell_type": "code",
   "execution_count": 35,
   "id": "88392d7d",
   "metadata": {},
   "outputs": [
    {
     "data": {
      "text/plain": [
       "title                      0\n",
       "commentCount             210\n",
       "dislikeCount             274\n",
       "likeCount                274\n",
       "music_style                0\n",
       "performer                  0\n",
       "viewCount                  1\n",
       "commentators_uniq       6810\n",
       "comments_obscene_cnt    6810\n",
       "video_age                  0\n",
       "music_style_int            0\n",
       "dtype: int64"
      ]
     },
     "execution_count": 35,
     "metadata": {},
     "output_type": "execute_result"
    }
   ],
   "source": [
    "df.isnull().sum()"
   ]
  },
  {
   "cell_type": "code",
   "execution_count": 36,
   "id": "54674e03",
   "metadata": {},
   "outputs": [
    {
     "data": {
      "text/plain": [
       "14379"
      ]
     },
     "execution_count": 36,
     "metadata": {},
     "output_type": "execute_result"
    }
   ],
   "source": [
    "df.isnull().sum().sum()"
   ]
  },
  {
   "cell_type": "code",
   "execution_count": 37,
   "id": "26b12943",
   "metadata": {},
   "outputs": [
    {
     "data": {
      "image/png": "[encoded data removed]",
      "text/plain": [
       "<Figure size 1440x864 with 1 Axes>"
      ]
     },
     "metadata": {
      "needs_background": "light"
     },
     "output_type": "display_data"
    }
   ],
   "source": [
    "fig, ax = plt.subplots(figsize=(20,12))\n",
    "sns_heatmap = sns.heatmap(df.isnull(), yticklabels=False, cbar=False, cmap='viridis')"
   ]
  },
  {
   "cell_type": "markdown",
   "id": "3919eae0",
   "metadata": {},
   "source": [
    "### Delete"
   ]
  },
  {
   "cell_type": "code",
   "execution_count": 38,
   "id": "8d3ba852",
   "metadata": {},
   "outputs": [
    {
     "name": "stdout",
     "output_type": "stream",
     "text": [
      "(19124, 11)\n",
      "(12116, 11)\n",
      "(19124, 5)\n"
     ]
    }
   ],
   "source": [
    "print(df.shape)\n",
    "\n",
    "# by default deletes lines where there is na\n",
    "print(df.dropna().shape)\n",
    "\n",
    "# we can delete columns where there is at least one omission\n",
    "print(df.dropna(axis=1).shape)"
   ]
  },
  {
   "cell_type": "code",
   "execution_count": 39,
   "id": "c5f0785e",
   "metadata": {},
   "outputs": [
    {
     "name": "stdout",
     "output_type": "stream",
     "text": [
      "(19124, 11)\n"
     ]
    }
   ],
   "source": [
    "print(df.shape)"
   ]
  },
  {
   "cell_type": "code",
   "execution_count": 40,
   "id": "ca98e452",
   "metadata": {},
   "outputs": [],
   "source": [
    "# the result is the same for lines below\n",
    "# df = df.dropna()\n",
    "# df.dropna(inplace=True)"
   ]
  },
  {
   "cell_type": "markdown",
   "id": "7d68af6a",
   "metadata": {},
   "source": [
    "Deleting is often too expensive an operation, since we get rid of a bunch of data, which is often not enough anyway"
   ]
  },
  {
   "cell_type": "markdown",
   "id": "5b8a2bfc",
   "metadata": {},
   "source": [
    "### Filling in"
   ]
  },
  {
   "cell_type": "code",
   "execution_count": 41,
   "id": "4e9bf621",
   "metadata": {},
   "outputs": [
    {
     "data": {
      "text/plain": [
       "0    24.0\n",
       "1     NaN\n",
       "2    27.0\n",
       "3     2.0\n",
       "dtype: float64"
      ]
     },
     "execution_count": 41,
     "metadata": {},
     "output_type": "execute_result"
    }
   ],
   "source": [
    "# was\n",
    "ser = pd.Series([24, np.nan, 27, 2])\n",
    "ser"
   ]
  },
  {
   "cell_type": "code",
   "execution_count": 42,
   "id": "330adc2b",
   "metadata": {},
   "outputs": [
    {
     "data": {
      "text/plain": [
       "0    24.0\n",
       "1     0.0\n",
       "2    27.0\n",
       "3     2.0\n",
       "dtype: float64"
      ]
     },
     "execution_count": 42,
     "metadata": {},
     "output_type": "execute_result"
    }
   ],
   "source": [
    "# fill in with zero\n",
    "ser.fillna(0)"
   ]
  },
  {
   "cell_type": "code",
   "execution_count": 43,
   "id": "700c8401",
   "metadata": {},
   "outputs": [
    {
     "data": {
      "text/plain": [
       "0    24.0\n",
       "1    24.0\n",
       "2    27.0\n",
       "3     2.0\n",
       "dtype: float64"
      ]
     },
     "execution_count": 43,
     "metadata": {},
     "output_type": "execute_result"
    }
   ],
   "source": [
    "# fill in the previous value\n",
    "ser.fillna(method='ffill').head()"
   ]
  },
  {
   "cell_type": "code",
   "execution_count": 44,
   "id": "48660056",
   "metadata": {},
   "outputs": [
    {
     "data": {
      "text/plain": [
       "0    24.0\n",
       "1    27.0\n",
       "2    27.0\n",
       "3     2.0\n",
       "dtype: float64"
      ]
     },
     "execution_count": 44,
     "metadata": {},
     "output_type": "execute_result"
    }
   ],
   "source": [
    "# fill in with the following value\n",
    "ser.fillna(method='bfill').head()"
   ]
  },
  {
   "cell_type": "markdown",
   "id": "20a8dc0f",
   "metadata": {},
   "source": [
    "##### Task #7:\n",
    "\n",
    "Fill in the gaps in the columns of the clip table with the average"
   ]
  },
  {
   "cell_type": "code",
   "execution_count": 45,
   "id": "95bbc958",
   "metadata": {},
   "outputs": [],
   "source": [
    "# Your code"
   ]
  },
  {
   "cell_type": "markdown",
   "id": "fd2465e8",
   "metadata": {},
   "source": [
    "## Anomaly detection"
   ]
  },
  {
   "cell_type": "markdown",
   "id": "8de70979",
   "metadata": {},
   "source": [
    "Anomalies in the $-$ data are as common a problem as missing values, but more serious. Let's look at an example of how anomalies can ruin everything:  \n",
    "\n",
    "### We estimate the average height of people in a school classroom:\n",
    "\n",
    "Imagine that we want to estimate the average height of people in a school classroom. We have the following table:"
   ]
  },
  {
   "cell_type": "code",
   "execution_count": 46,
   "id": "0ed38968",
   "metadata": {},
   "outputs": [
    {
     "data": {
      "text/html": [
       "<div>\n",
       "<style scoped>\n",
       "    .dataframe tbody tr th:only-of-type {\n",
       "        vertical-align: middle;\n",
       "    }\n",
       "\n",
       "    .dataframe tbody tr th {\n",
       "        vertical-align: top;\n",
       "    }\n",
       "\n",
       "    .dataframe thead th {\n",
       "        text-align: right;\n",
       "    }\n",
       "</style>\n",
       "<table border=\"1\" class=\"dataframe\">\n",
       "  <thead>\n",
       "    <tr style=\"text-align: right;\">\n",
       "      <th></th>\n",
       "      <th>student</th>\n",
       "      <th>height_cm</th>\n",
       "    </tr>\n",
       "  </thead>\n",
       "  <tbody>\n",
       "    <tr>\n",
       "      <th>0</th>\n",
       "      <td>Max</td>\n",
       "      <td>170</td>\n",
       "    </tr>\n",
       "    <tr>\n",
       "      <th>1</th>\n",
       "      <td>Ahmed</td>\n",
       "      <td>165</td>\n",
       "    </tr>\n",
       "    <tr>\n",
       "      <th>2</th>\n",
       "      <td>Nastya</td>\n",
       "      <td>171</td>\n",
       "    </tr>\n",
       "    <tr>\n",
       "      <th>3</th>\n",
       "      <td>Vlad</td>\n",
       "      <td>168</td>\n",
       "    </tr>\n",
       "  </tbody>\n",
       "</table>\n",
       "</div>"
      ],
      "text/plain": [
       "  student  height_cm\n",
       "0     Max        170\n",
       "1   Ahmed        165\n",
       "2  Nastya        171\n",
       "3    Vlad        168"
      ]
     },
     "execution_count": 46,
     "metadata": {},
     "output_type": "execute_result"
    }
   ],
   "source": [
    "students = pd.DataFrame({'student': ['Max', 'Ahmed', 'Nastya', 'Vlad'],\n",
    "                        'height_cm': [170, 165, 171, 168]})\n",
    "\n",
    "students"
   ]
  },
  {
   "cell_type": "markdown",
   "id": "9bd31fa4",
   "metadata": {},
   "source": [
    "Find the average:"
   ]
  },
  {
   "cell_type": "code",
   "execution_count": 47,
   "id": "88e047ec",
   "metadata": {},
   "outputs": [
    {
     "data": {
      "text/plain": [
       "168.5"
      ]
     },
     "execution_count": 47,
     "metadata": {},
     "output_type": "execute_result"
    }
   ],
   "source": [
    "students.height_cm.mean()"
   ]
  },
  {
   "cell_type": "markdown",
   "id": "455dd5b4",
   "metadata": {},
   "source": [
    "Now imagine that a brand new Philip came to our class, who stayed for the second year because he played basketball, and did not study. We have a new observation in the table, let's try to estimate the growth now."
   ]
  },
  {
   "cell_type": "code",
   "execution_count": 48,
   "id": "2de6ccc3",
   "metadata": {},
   "outputs": [
    {
     "data": {
      "text/html": [
       "<div>\n",
       "<style scoped>\n",
       "    .dataframe tbody tr th:only-of-type {\n",
       "        vertical-align: middle;\n",
       "    }\n",
       "\n",
       "    .dataframe tbody tr th {\n",
       "        vertical-align: top;\n",
       "    }\n",
       "\n",
       "    .dataframe thead th {\n",
       "        text-align: right;\n",
       "    }\n",
       "</style>\n",
       "<table border=\"1\" class=\"dataframe\">\n",
       "  <thead>\n",
       "    <tr style=\"text-align: right;\">\n",
       "      <th></th>\n",
       "      <th>student</th>\n",
       "      <th>height_cm</th>\n",
       "    </tr>\n",
       "  </thead>\n",
       "  <tbody>\n",
       "    <tr>\n",
       "      <th>0</th>\n",
       "      <td>Max</td>\n",
       "      <td>170</td>\n",
       "    </tr>\n",
       "    <tr>\n",
       "      <th>1</th>\n",
       "      <td>Ahmed</td>\n",
       "      <td>165</td>\n",
       "    </tr>\n",
       "    <tr>\n",
       "      <th>2</th>\n",
       "      <td>Nastya</td>\n",
       "      <td>171</td>\n",
       "    </tr>\n",
       "    <tr>\n",
       "      <th>3</th>\n",
       "      <td>Vlad</td>\n",
       "      <td>168</td>\n",
       "    </tr>\n",
       "    <tr>\n",
       "      <th>4</th>\n",
       "      <td>Phil</td>\n",
       "      <td>210</td>\n",
       "    </tr>\n",
       "  </tbody>\n",
       "</table>\n",
       "</div>"
      ],
      "text/plain": [
       "  student  height_cm\n",
       "0     Max        170\n",
       "1   Ahmed        165\n",
       "2  Nastya        171\n",
       "3    Vlad        168\n",
       "4    Phil        210"
      ]
     },
     "execution_count": 48,
     "metadata": {},
     "output_type": "execute_result"
    }
   ],
   "source": [
    "students.loc[4] = ['Phil', 210]\n",
    "students"
   ]
  },
  {
   "cell_type": "code",
   "execution_count": 49,
   "id": "739f30d7",
   "metadata": {},
   "outputs": [
    {
     "data": {
      "text/plain": [
       "0       Max\n",
       "1     Ahmed\n",
       "2    Nastya\n",
       "3      Vlad\n",
       "4      Phil\n",
       "Name: student, dtype: object"
      ]
     },
     "execution_count": 49,
     "metadata": {},
     "output_type": "execute_result"
    }
   ],
   "source": [
    "students.iloc[:, 0]"
   ]
  },
  {
   "cell_type": "code",
   "execution_count": 50,
   "id": "0a898fca",
   "metadata": {},
   "outputs": [
    {
     "data": {
      "text/plain": [
       "176.8"
      ]
     },
     "execution_count": 50,
     "metadata": {},
     "output_type": "execute_result"
    }
   ],
   "source": [
    "students.height_cm.mean()"
   ]
  },
  {
   "cell_type": "markdown",
   "id": "4bd5d08e",
   "metadata": {},
   "source": [
    "We see that the value of the average height *has changed greatly* due to one person having a non-specific (*abnormal*) growth for our sample. This is due to the fact that Philip came to our class *from another distribution* $-$ distribution of basketball players. That is why the value of our average is now *greatly overestimated*, and thus we can collect *erroneous statistics*."
   ]
  },
  {
   "cell_type": "markdown",
   "id": "48680aa9",
   "metadata": {},
   "source": [
    "Possible solution: use quantiles (for example, median) for aggregated statistics"
   ]
  },
  {
   "cell_type": "code",
   "execution_count": 51,
   "id": "6b94b93f",
   "metadata": {},
   "outputs": [
    {
     "data": {
      "text/plain": [
       "170.0"
      ]
     },
     "execution_count": 51,
     "metadata": {},
     "output_type": "execute_result"
    }
   ],
   "source": [
    "students.height_cm.median()"
   ]
  },
  {
   "cell_type": "markdown",
   "id": "f434c020",
   "metadata": {},
   "source": [
    "**REMEMBER: The median, unlike the average, is resistant to outliers!**"
   ]
  },
  {
   "cell_type": "markdown",
   "id": "2ee5cb60",
   "metadata": {},
   "source": [
    "### Detection and removal of outliers on the example of clips:"
   ]
  },
  {
   "cell_type": "code",
   "execution_count": 52,
   "id": "4bf74c3e",
   "metadata": {},
   "outputs": [
    {
     "data": {
      "text/plain": [
       "5735.014482758621"
      ]
     },
     "execution_count": 52,
     "metadata": {},
     "output_type": "execute_result"
    }
   ],
   "source": [
    "df.likeCount.mean()"
   ]
  },
  {
   "cell_type": "code",
   "execution_count": 53,
   "id": "c1e275ea",
   "metadata": {},
   "outputs": [
    {
     "data": {
      "text/plain": [
       "100.0"
      ]
     },
     "execution_count": 53,
     "metadata": {},
     "output_type": "execute_result"
    }
   ],
   "source": [
    "df.likeCount.median()"
   ]
  },
  {
   "cell_type": "markdown",
   "id": "a5931d6e",
   "metadata": {},
   "source": [
    "We see a strong overestimation of the average for likes in contrast to the median. The reason is anomalies."
   ]
  },
  {
   "cell_type": "markdown",
   "id": "f8c0191a",
   "metadata": {},
   "source": [
    "A long tail is visible on the distribution:"
   ]
  },
  {
   "cell_type": "code",
   "execution_count": 54,
   "id": "7968927d",
   "metadata": {},
   "outputs": [
    {
     "data": {
      "image/png": "[encoded data removed]",
      "text/plain": [
       "<Figure size 432x288 with 1 Axes>"
      ]
     },
     "metadata": {
      "needs_background": "light"
     },
     "output_type": "display_data"
    }
   ],
   "source": [
    "df.likeCount.hist(bins=30);"
   ]
  },
  {
   "cell_type": "markdown",
   "id": "561dc81d",
   "metadata": {},
   "source": [
    "If it is not particularly visible, then you can look at the log scale:"
   ]
  },
  {
   "cell_type": "code",
   "execution_count": 55,
   "id": "f3f540bf",
   "metadata": {},
   "outputs": [
    {
     "data": {
      "image/png": "[encoded data removed]",
      "text/plain": [
       "<Figure size 432x288 with 1 Axes>"
      ]
     },
     "metadata": {
      "needs_background": "light"
     },
     "output_type": "display_data"
    }
   ],
   "source": [
    "df.likeCount.hist(bins=30, log=True);"
   ]
  },
  {
   "cell_type": "markdown",
   "id": "ebab88d7",
   "metadata": {},
   "source": [
    "That is, we have clips in the sample with an abnormal number of likes - the so-called hits. They spoil all the statistics for us.  \n",
    "\n",
    "Let's try to get rid of them:\n",
    "\n",
    "**Method #1:** Let's discard $1\\%$ of our sample of clips that have the most likes. Let's use the $99\\%$ percentile for this."
   ]
  },
  {
   "cell_type": "code",
   "execution_count": 56,
   "id": "8a5300a0",
   "metadata": {},
   "outputs": [
    {
     "data": {
      "text/plain": [
       "128146.6499999979"
      ]
     },
     "execution_count": 56,
     "metadata": {},
     "output_type": "execute_result"
    }
   ],
   "source": [
    "df.likeCount.quantile(0.99)"
   ]
  },
  {
   "cell_type": "code",
   "execution_count": 57,
   "id": "098d0f64",
   "metadata": {},
   "outputs": [
    {
     "data": {
      "image/png": "[encoded data removed]",
      "text/plain": [
       "<Figure size 432x288 with 1 Axes>"
      ]
     },
     "metadata": {
      "needs_background": "light"
     },
     "output_type": "display_data"
    }
   ],
   "source": [
    "threshold = df.likeCount.quantile(0.99)\n",
    "df_clear = df[df.likeCount <= threshold]\n",
    "\n",
    "# visualize\n",
    "df_clear.likeCount.hist(bins=30);"
   ]
  },
  {
   "cell_type": "markdown",
   "id": "3e89a9ed",
   "metadata": {},
   "source": [
    "**Method #2:** We consider as anomalies all observations that were outside the three interquartile deviations.  \n",
    "\n",
    "##### Task #8:\n",
    "\n",
    "Implement this method. The interquartile deviation is the difference between the 25th and 75th percentiles."
   ]
  },
  {
   "cell_type": "code",
   "execution_count": 58,
   "id": "e8252241",
   "metadata": {},
   "outputs": [],
   "source": [
    "# your code here\n",
    "\n",
    "# q1 =\n",
    "# q3 = \n",
    "# iqr = \n",
    "# min_ = \n",
    "# max_ = "
   ]
  },
  {
   "cell_type": "markdown",
   "id": "91d1c573",
   "metadata": {},
   "source": [
    "It is worth noting that sometimes looking for anomalies is required not only for data processing. Sometimes, the search for anomalies $-$ is the task. For example, bank fraudsters whose behavior differs from ordinary users are anomalies. And the search for such people is our task."
   ]
  }
 ],
 "metadata": {
  "kernelspec": {
   "display_name": "Python 3",
   "language": "python",
   "name": "python3"
  },
  "language_info": {
   "codemirror_mode": {
    "name": "ipython",
    "version": 3
   },
   "file_extension": ".py",
   "mimetype": "text/x-python",
   "name": "python",
   "nbconvert_exporter": "python",
   "pygments_lexer": "ipython3",
   "version": "3.9.4"
  },
  "toc": {
   "base_numbering": 1,
   "nav_menu": {},
   "number_sections": true,
   "sideBar": true,
   "skip_h1_title": false,
   "title_cell": "Table of Contents",
   "title_sidebar": "Contents",
   "toc_cell": true,
   "toc_position": {},
   "toc_section_display": true,
   "toc_window_display": true
  },
  "varInspector": {
   "cols": {
    "lenName": 16,
    "lenType": 16,
    "lenVar": 40
   },
   "kernels_config": {
    "python": {
     "delete_cmd_postfix": "",
     "delete_cmd_prefix": "del ",
     "library": "var_list.py",
     "varRefreshCmd": "print(var_dic_list())"
    },
    "r": {
     "delete_cmd_postfix": ") ",
     "delete_cmd_prefix": "rm(",
     "library": "var_list.r",
     "varRefreshCmd": "cat(var_dic_list()) "
    }
   },
   "types_to_exclude": [
    "module",
    "function",
    "builtin_function_or_method",
    "instance",
    "_Feature"
   ],
   "window_display": false
  }
 },
 "nbformat": 4,
 "nbformat_minor": 5
}
